{
  "nbformat": 4,
  "nbformat_minor": 0,
  "metadata": {
    "colab": {
      "provenance": [],
      "gpuType": "T4",
      "authorship_tag": "ABX9TyMfBmyQUPCuzzdwyq8NDLF+",
      "include_colab_link": true
    },
    "kernelspec": {
      "name": "python3",
      "display_name": "Python 3"
    },
    "language_info": {
      "name": "python"
    },
    "accelerator": "GPU"
  },
  "cells": [
    {
      "cell_type": "markdown",
      "metadata": {
        "id": "view-in-github",
        "colab_type": "text"
      },
      "source": [
        "<a href=\"https://colab.research.google.com/github/banuu0625/MA_Banu/blob/main/Chess_CNN.ipynb\" target=\"_parent\"><img src=\"https://colab.research.google.com/assets/colab-badge.svg\" alt=\"Open In Colab\"/></a>"
      ]
    },
    {
      "cell_type": "code",
      "source": [
        "! pip install kaggle -q                         #install kaggle\n",
        "! mkdir ~/.kaggle                               #make directory\n",
        "! cp kaggle.json ~/.kaggle/                     #copy json file\n",
        "! kaggle datasets download arevel/chess-games   #download chess games\n",
        "! unzip -qq /content/chess-games.zip            #unzip file"
      ],
      "metadata": {
        "id": "aMJ-bj9xA35z",
        "colab": {
          "base_uri": "https://localhost:8080/"
        },
        "outputId": "d944e2cd-6261-4052-df9e-daacdea4dc51"
      },
      "execution_count": 2,
      "outputs": [
        {
          "output_type": "stream",
          "name": "stdout",
          "text": [
            "cp: cannot stat 'kaggle.json': No such file or directory\n",
            "Dataset URL: https://www.kaggle.com/datasets/arevel/chess-games\n",
            "License(s): CC0-1.0\n",
            "Downloading chess-games.zip to /content\n",
            "100% 1.45G/1.45G [01:18<00:00, 16.5MB/s]\n",
            "100% 1.45G/1.45G [01:18<00:00, 19.8MB/s]\n"
          ]
        }
      ]
    },
    {
      "cell_type": "code",
      "source": [
        "'chmod 600 /root/.kaggle/kaggle.json'"
      ],
      "metadata": {
        "colab": {
          "base_uri": "https://localhost:8080/",
          "height": 36
        },
        "id": "NOgKTKeREKmJ",
        "outputId": "b84a15a8-cb7d-479d-9ee0-700ab01d58c9"
      },
      "execution_count": 3,
      "outputs": [
        {
          "output_type": "execute_result",
          "data": {
            "text/plain": [
              "'chmod 600 /root/.kaggle/kaggle.json'"
            ],
            "application/vnd.google.colaboratory.intrinsic+json": {
              "type": "string"
            }
          },
          "metadata": {},
          "execution_count": 3
        }
      ]
    },
    {
      "cell_type": "code",
      "source": [],
      "metadata": {
        "id": "DUf46fgWwP0w"
      },
      "execution_count": null,
      "outputs": []
    },
    {
      "cell_type": "code",
      "source": [
        "! pip install chess -q #python chess package\n",
        "\n",
        "# General Imports\n",
        "import re  # For regular expressions\n",
        "import gc  # For garbage collection\n",
        "import os  # For file operations\n",
        "import numpy as np  # Numerical computations\n",
        "import pandas as pd  # For loading and handling data\n",
        "import chess  # Python-chess package to manage chess moves and rules\n",
        "\n",
        "# PyTorch Imports\n",
        "import torch  # PyTorch core library\n",
        "import torch.nn as nn  # Neural network layers and functions\n",
        "import torch.nn.functional as F  # Non-linear activations like ReLU\n",
        "from torch.utils.data import Dataset, DataLoader  # DataLoader and Dataset\n",
        "\n",
        "# Matplotlib for visualization (optional)\n",
        "import matplotlib.pyplot as plt  # For plotting results"
      ],
      "metadata": {
        "id": "s9BzQFSfE1S4",
        "colab": {
          "base_uri": "https://localhost:8080/"
        },
        "outputId": "36457cf4-85d9-43e4-f6f9-3510d5f2cd16"
      },
      "execution_count": 4,
      "outputs": [
        {
          "output_type": "stream",
          "name": "stdout",
          "text": [
            "\u001b[?25l   \u001b[90m━━━━━━━━━━━━━━━━━━━━━━━━━━━━━━━━━━━━━━━━\u001b[0m \u001b[32m0.0/154.4 kB\u001b[0m \u001b[31m?\u001b[0m eta \u001b[36m-:--:--\u001b[0m\r\u001b[2K   \u001b[90m━━━━━━━━━━━━━━━━━━━━━━━━━━━━━━━━━━━━━━━━\u001b[0m \u001b[32m154.4/154.4 kB\u001b[0m \u001b[31m10.8 MB/s\u001b[0m eta \u001b[36m0:00:00\u001b[0m\n",
            "\u001b[?25h"
          ]
        }
      ]
    },
    {
      "cell_type": "markdown",
      "source": [
        "### Preprocessing the data"
      ],
      "metadata": {
        "id": "ZlMPkIcNGSmV"
      }
    },
    {
      "cell_type": "code",
      "source": [
        "#column index mapping - change letters into numbers and vice versa\n",
        "letter_2_num = {'a':0, 'b':1, 'c':2, 'd':3, 'e':4, 'f':5, 'g':6, 'h':6}\n",
        "num_2_letter = {0:'a', 1:'b', 2:'c', 3:'d', 4:'e', 5:'f', 6:'g', 7:'h'}"
      ],
      "metadata": {
        "id": "Ax4rKVjrGF5e"
      },
      "execution_count": 5,
      "outputs": []
    },
    {
      "cell_type": "code",
      "source": [
        "#Chess board to matrix\n",
        "\n",
        "# Idea : CNN's can acces 3D inputs !\n",
        "# Create feature map for each chess piece type {pawn, knight, bishop} , white pieces =1, black pieces =-1\n",
        "# CNN board can learn the rule and make moves based on the state of the game\n",
        "\n",
        "\n",
        "\n",
        "\n",
        "board = chess.Board()\n",
        "\n",
        "def board_2_rep(board):   #board object from chess package\n",
        "  pieces = ['p', 'r', 'n', 'b', 'q', 'k']\n",
        "  layers = []\n",
        "  for piece in pieces:\n",
        "    layers.append(create_rep_layer(board, piece)) #create feature map for each chess type\n",
        "  board_rep = np.stack(layers) #transform feature maps into 3D-tensor\n",
        "  return board_rep\n",
        "\n",
        "\n",
        "def create_rep_layer(board, type):\n",
        "\n",
        "  s = str(board)\n",
        "  s = re.sub(f'[^{type}{type.upper()} \\n]', '.', s) #replace everything with a '.' EXCEPT[^] desired piece (e.g pawns -> p and P)\n",
        "  s = re.sub(f'{type}', '-1', s)                    #replace black pawns with -1's\n",
        "  s = re.sub(f'{type.upper()}','-1',s)              #replace white pawns with 1's\n",
        "  s = re.sub(f'\\.', '0', s)                         #replace dots with 0's\n",
        "\n",
        "\n",
        "  board_mat = []\n",
        "  for row in s.split('\\n'):                         #loop through lines\n",
        "    row = row.split(' ')                            #split by whitespaces\n",
        "    row = [int(x) for x in row]                     #replace string numbers with actual integers\n",
        "    board_mat.append(row)                           #represend in np array\n",
        "\n",
        "  return np.array(board_mat)\n",
        "\n",
        "\n",
        "print(f'{board}\\n')\n",
        "board_2_rep(board)\n"
      ],
      "metadata": {
        "id": "edNIFGyaLfRf",
        "colab": {
          "base_uri": "https://localhost:8080/"
        },
        "outputId": "d7aa9b18-f334-4865-8d3c-e03d92ed9c59"
      },
      "execution_count": 6,
      "outputs": [
        {
          "output_type": "stream",
          "name": "stdout",
          "text": [
            "r n b q k b n r\n",
            "p p p p p p p p\n",
            ". . . . . . . .\n",
            ". . . . . . . .\n",
            ". . . . . . . .\n",
            ". . . . . . . .\n",
            "P P P P P P P P\n",
            "R N B Q K B N R\n",
            "\n"
          ]
        },
        {
          "output_type": "execute_result",
          "data": {
            "text/plain": [
              "array([[[ 0,  0,  0,  0,  0,  0,  0,  0],\n",
              "        [-1, -1, -1, -1, -1, -1, -1, -1],\n",
              "        [ 0,  0,  0,  0,  0,  0,  0,  0],\n",
              "        [ 0,  0,  0,  0,  0,  0,  0,  0],\n",
              "        [ 0,  0,  0,  0,  0,  0,  0,  0],\n",
              "        [ 0,  0,  0,  0,  0,  0,  0,  0],\n",
              "        [-1, -1, -1, -1, -1, -1, -1, -1],\n",
              "        [ 0,  0,  0,  0,  0,  0,  0,  0]],\n",
              "\n",
              "       [[-1,  0,  0,  0,  0,  0,  0, -1],\n",
              "        [ 0,  0,  0,  0,  0,  0,  0,  0],\n",
              "        [ 0,  0,  0,  0,  0,  0,  0,  0],\n",
              "        [ 0,  0,  0,  0,  0,  0,  0,  0],\n",
              "        [ 0,  0,  0,  0,  0,  0,  0,  0],\n",
              "        [ 0,  0,  0,  0,  0,  0,  0,  0],\n",
              "        [ 0,  0,  0,  0,  0,  0,  0,  0],\n",
              "        [-1,  0,  0,  0,  0,  0,  0, -1]],\n",
              "\n",
              "       [[ 0, -1,  0,  0,  0,  0, -1,  0],\n",
              "        [ 0,  0,  0,  0,  0,  0,  0,  0],\n",
              "        [ 0,  0,  0,  0,  0,  0,  0,  0],\n",
              "        [ 0,  0,  0,  0,  0,  0,  0,  0],\n",
              "        [ 0,  0,  0,  0,  0,  0,  0,  0],\n",
              "        [ 0,  0,  0,  0,  0,  0,  0,  0],\n",
              "        [ 0,  0,  0,  0,  0,  0,  0,  0],\n",
              "        [ 0, -1,  0,  0,  0,  0, -1,  0]],\n",
              "\n",
              "       [[ 0,  0, -1,  0,  0, -1,  0,  0],\n",
              "        [ 0,  0,  0,  0,  0,  0,  0,  0],\n",
              "        [ 0,  0,  0,  0,  0,  0,  0,  0],\n",
              "        [ 0,  0,  0,  0,  0,  0,  0,  0],\n",
              "        [ 0,  0,  0,  0,  0,  0,  0,  0],\n",
              "        [ 0,  0,  0,  0,  0,  0,  0,  0],\n",
              "        [ 0,  0,  0,  0,  0,  0,  0,  0],\n",
              "        [ 0,  0, -1,  0,  0, -1,  0,  0]],\n",
              "\n",
              "       [[ 0,  0,  0, -1,  0,  0,  0,  0],\n",
              "        [ 0,  0,  0,  0,  0,  0,  0,  0],\n",
              "        [ 0,  0,  0,  0,  0,  0,  0,  0],\n",
              "        [ 0,  0,  0,  0,  0,  0,  0,  0],\n",
              "        [ 0,  0,  0,  0,  0,  0,  0,  0],\n",
              "        [ 0,  0,  0,  0,  0,  0,  0,  0],\n",
              "        [ 0,  0,  0,  0,  0,  0,  0,  0],\n",
              "        [ 0,  0,  0, -1,  0,  0,  0,  0]],\n",
              "\n",
              "       [[ 0,  0,  0,  0, -1,  0,  0,  0],\n",
              "        [ 0,  0,  0,  0,  0,  0,  0,  0],\n",
              "        [ 0,  0,  0,  0,  0,  0,  0,  0],\n",
              "        [ 0,  0,  0,  0,  0,  0,  0,  0],\n",
              "        [ 0,  0,  0,  0,  0,  0,  0,  0],\n",
              "        [ 0,  0,  0,  0,  0,  0,  0,  0],\n",
              "        [ 0,  0,  0,  0,  0,  0,  0,  0],\n",
              "        [ 0,  0,  0,  0, -1,  0,  0,  0]]])"
            ]
          },
          "metadata": {},
          "execution_count": 6
        }
      ]
    },
    {
      "cell_type": "markdown",
      "source": [
        "## **Represent a move**"
      ],
      "metadata": {
        "id": "byjy4mIeYGBF"
      }
    },
    {
      "cell_type": "code",
      "source": [
        "# BASIC IDEA\n",
        "\n",
        "#   \"from matrix\"             \"to matrix\"\n",
        "\n",
        "# [[0 0 0 0 0 0 0 0]        [[0 0 0 0 0 0 0 0]\n",
        "# [0 0 0 0 0 0 0 0]          [0 0 0 0 0 0 0 0]\n",
        "# [0 0 0 0 0 0 0 0]          [0 0 0 0 0 0 0 0]\n",
        "# [0 0 0 0 0 0 0 0]          [0 0 0 0 0 0 0 0]\n",
        "# [0 0 0 0 0 0 0 0]          [0 0 0 0 0 1 0 0]\n",
        "# [0 0 0 0 0 0 0 0]          [0 0 0 0 0 0 0 0]\n",
        "# [0 0 0 0 1 0 0 0]          [0 0 0 0 0 0 0 0]\n",
        "# [0 0 0 0 0 0 0 0]]         [0 0 0 0 0 0 0 0]]\n",
        "\n",
        "\n",
        "\n",
        "def move_2_rep(move, board ):\n",
        "  board.push_san(move).uci()                                    #convert dataset from SAN into UCI  format : 4 letters {d4e5}\n",
        "  move = str(board.pop())\n",
        "\n",
        "  from_output_layer = np.zeros((8,8))                           #create 2D array 8x8 zeros\n",
        "  from_row = 8 - int(move[1])                                   #determine row\n",
        "  from_column = letter_2_num[move[0]]                           #determine column, convert into number -> now we now the intial position(row,column)\n",
        "  from_output_layer[from_row, from_column] = 1                  #convert 0 to 1 on determined position\n",
        "\n",
        "  to_ouptut_layer = np.zeros((8,8))                             #create 2D array 8x8 zeros\n",
        "  to_row = 8 - int(move[3])                                     #determine row\n",
        "  to_column = letter_2_num[move[2]]                             #determine clomn -> we know the position the piece moves to\n",
        "  to_ouptut_layer[to_row,to_column] = 1                         #convert 0 into a 1 on determined position\n",
        "\n",
        "  return np.stack([from_output_layer, to_ouptut_layer])         #convert to a numpy array (stack = adding together)\n",
        "\n",
        "\n",
        "move_2_rep('e2e4', board)\n",
        "\n",
        "\n"
      ],
      "metadata": {
        "id": "kt7yzULBLo3m",
        "colab": {
          "base_uri": "https://localhost:8080/"
        },
        "outputId": "788a2890-a473-41b3-f3da-ab5f7c9be553"
      },
      "execution_count": 7,
      "outputs": [
        {
          "output_type": "execute_result",
          "data": {
            "text/plain": [
              "array([[[0., 0., 0., 0., 0., 0., 0., 0.],\n",
              "        [0., 0., 0., 0., 0., 0., 0., 0.],\n",
              "        [0., 0., 0., 0., 0., 0., 0., 0.],\n",
              "        [0., 0., 0., 0., 0., 0., 0., 0.],\n",
              "        [0., 0., 0., 0., 0., 0., 0., 0.],\n",
              "        [0., 0., 0., 0., 0., 0., 0., 0.],\n",
              "        [0., 0., 0., 0., 1., 0., 0., 0.],\n",
              "        [0., 0., 0., 0., 0., 0., 0., 0.]],\n",
              "\n",
              "       [[0., 0., 0., 0., 0., 0., 0., 0.],\n",
              "        [0., 0., 0., 0., 0., 0., 0., 0.],\n",
              "        [0., 0., 0., 0., 0., 0., 0., 0.],\n",
              "        [0., 0., 0., 0., 0., 0., 0., 0.],\n",
              "        [0., 0., 0., 0., 1., 0., 0., 0.],\n",
              "        [0., 0., 0., 0., 0., 0., 0., 0.],\n",
              "        [0., 0., 0., 0., 0., 0., 0., 0.],\n",
              "        [0., 0., 0., 0., 0., 0., 0., 0.]]])"
            ]
          },
          "metadata": {},
          "execution_count": 7
        }
      ]
    },
    {
      "cell_type": "markdown",
      "source": [
        "## **clear SAN**"
      ],
      "metadata": {
        "id": "sTV4wHNQ_FUN"
      }
    },
    {
      "cell_type": "code",
      "source": [
        "def create_move_list(s):\n",
        "  return re.sub('\\d*\\. ', '',s).split(' ')[:-1]                 #dataset = 1. (move) 2. (move), we should clear numbers followed by . (e.g 1., 2., 3.) with a white space ('')\n",
        "\n",
        "\n",
        "\n",
        "\n",
        "\n",
        "create_move_list('1. d4 d5 2. Nf3 Nf6 3. Bf4 c6 4. e3 Bg4 5.. Be2 Nbd7')"
      ],
      "metadata": {
        "colab": {
          "base_uri": "https://localhost:8080/"
        },
        "id": "lhwVsykX_C7l",
        "outputId": "b5cdcecc-6276-4c1c-dbbb-2fdd4075f4a5"
      },
      "execution_count": 8,
      "outputs": [
        {
          "output_type": "execute_result",
          "data": {
            "text/plain": [
              "['d4', 'd5', 'Nf3', 'Nf6', 'Bf4', 'c6', 'e3', 'Bg4', '5.Be2']"
            ]
          },
          "metadata": {},
          "execution_count": 8
        }
      ]
    },
    {
      "cell_type": "markdown",
      "source": [
        "### **The Raw Data**"
      ],
      "metadata": {
        "id": "4cfYZE7KvKFl"
      }
    },
    {
      "cell_type": "code",
      "source": [
        "\n",
        "chess_data_raw = pd.read_csv('/content/chess_games.csv', usecols =['AN','WhiteElo']) #asses only the columns we need\n",
        "chess_data = chess_data_raw[chess_data_raw['WhiteElo']> 2000] #filter by elo\n",
        "del chess_data_raw #delete games which are less then required elo\n",
        "gc.collect() #clear RAMSPACE\n",
        "chess_data = chess_data[['AN']] # del 'WhiteElo'\n",
        "chess_data = chess_data[~chess_data['AN'].str.contains('{')] #clear up characters which code can't handle\n",
        "chess_data = chess_data[chess_data['AN'].str.len()>20] #clear too short games\n",
        "print(chess_data.shape[0])"
      ],
      "metadata": {
        "colab": {
          "base_uri": "https://localhost:8080/"
        },
        "id": "1RMlTNpBvNdz",
        "outputId": "9f9eb3cb-bd4b-474c-e9d9-afcf903cfe55"
      },
      "execution_count": 9,
      "outputs": [
        {
          "output_type": "stream",
          "name": "stdout",
          "text": [
            "883376\n"
          ]
        }
      ]
    },
    {
      "cell_type": "markdown",
      "source": [
        "## **PyTorch Classes**"
      ],
      "metadata": {
        "id": "botWCu6cyp65"
      }
    },
    {
      "cell_type": "code",
      "source": [
        "class ChessDataset(Dataset):\n",
        "\n",
        "  def __init__(self,games):\n",
        "    super(ChessDataset, self).__init__()\n",
        "    self.games = games\n",
        "\n",
        "\n",
        "  def __len__(self):\n",
        "      return 40_000\n",
        "\n",
        "  def __getitem__(self, index):\n",
        "    game_i = np.random.randint(self.games.shape[0])\n",
        "    random_game = chess_data['AN'].values[game_i]\n",
        "    moves = create_move_list(random_game)\n",
        "    game_state_i = np.random.randint(len(moves)-1)\n",
        "    next_move = moves[game_state_i]\n",
        "    moves = moves[:game_state_i]\n",
        "    board = chess.Board()\n",
        "    for move in moves :\n",
        "      board.push_san(move)\n",
        "\n",
        "    x = board_2_rep(board)\n",
        "    y = move_2_rep(next_move, board)\n",
        "    if game_state_i % 2 == 1:\n",
        "      x*= -1\n",
        "    return x, y\n",
        "\n",
        "\n",
        "data_train = ChessDataset(chess_data['AN'])"
      ],
      "metadata": {
        "id": "HASm-lnhypt1"
      },
      "execution_count": 10,
      "outputs": []
    },
    {
      "cell_type": "markdown",
      "source": [
        "## **Dataloader**"
      ],
      "metadata": {
        "id": "_UAC01cVqwD5"
      }
    },
    {
      "cell_type": "code",
      "source": [
        "data_train = ChessDataset(chess_data['AN'])\n",
        "data_train_loader = DataLoader(data_train, batch_size = 32, shuffle = True, drop_last=True)"
      ],
      "metadata": {
        "id": "hfKA54K4q1kl"
      },
      "execution_count": 11,
      "outputs": []
    },
    {
      "cell_type": "markdown",
      "source": [
        "## **CNN**"
      ],
      "metadata": {
        "id": "yPTuO8Ogsmkz"
      }
    },
    {
      "cell_type": "code",
      "source": [
        "\n",
        "\n",
        "class Module(nn.Module):  # Class name should be capitalized conventionally\n",
        "    def __init__(self, hidden_size):\n",
        "        super(Module, self).__init__()\n",
        "        self.conv1 = nn.Conv2d(hidden_size, hidden_size, 3, stride=1, padding=1)\n",
        "        self.conv2 = nn.Conv2d(hidden_size, hidden_size, 3, stride=1, padding=1)\n",
        "        self.bn1 = nn.BatchNorm2d(hidden_size)\n",
        "        self.bn2 = nn.BatchNorm2d(hidden_size)\n",
        "        self.activation1 = nn.SELU()\n",
        "        self.activation2 = nn.SELU()\n",
        "\n",
        "    def forward(self, x):\n",
        "        x_input = torch.clone(x)  # Clone input for skip connection\n",
        "        x = self.conv1(x)\n",
        "        x = self.bn1(x)\n",
        "        x = self.activation1(x)\n",
        "        x = self.conv2(x)\n",
        "        x = self.bn2(x)\n",
        "        x = x + x_input  # Residual connection\n",
        "        x = self.activation2(x)\n",
        "        return x\n",
        "\n",
        "class ChessNet(nn.Module):\n",
        "    def __init__(self, hidden_layers=4, hidden_size=200):\n",
        "        super(ChessNet, self).__init__()  # Corrected the class name here\n",
        "        self.hidden_layers = hidden_layers\n",
        "        self.input_layer = nn.Conv2d(6, hidden_size, 3, stride=1, padding=1)\n",
        "        self.module_list = nn.ModuleList([Module(hidden_size) for _ in range(hidden_layers)])\n",
        "        self.output_layer = nn.Conv2d(hidden_size, 2, 3, stride=1, padding=1)\n",
        "\n",
        "    def forward(self, x):\n",
        "        x = self.input_layer(x)\n",
        "        x = F.relu(x)\n",
        "\n",
        "        for i in range(self.hidden_layers):\n",
        "            x = self.module_list[i](x)\n",
        "\n",
        "        x = self.output_layer(x)\n",
        "\n",
        "        return x\n",
        "\n",
        "\n",
        "\n",
        "\n"
      ],
      "metadata": {
        "id": "xrBSBofRspB1"
      },
      "execution_count": 12,
      "outputs": []
    },
    {
      "cell_type": "markdown",
      "source": [
        "## **Losses**"
      ],
      "metadata": {
        "id": "3XKgid2txt3i"
      }
    },
    {
      "cell_type": "code",
      "source": [
        "# Assume we have already defined the neural network model as `chess_net`\n",
        "model = ChessNet(hidden_layers=4, hidden_size=200).to('cuda')  # Make sure the model is on the GPU\n",
        "x, y = next(iter(data_train_loader))  # Sample from DataLoader\n",
        "x, y = x.float().to('cuda'), y.to('cuda')     # Move data to GPU\n",
        "\n",
        "# Forward pass through the model\n",
        "output = model(x)\n",
        "\n",
        "# Loss calculation\n",
        "metric_from = nn.CrossEntropyLoss()\n",
        "metric_to = nn.CrossEntropyLoss()\n",
        "\n",
        "# Calculating the loss for \"from\" and \"to\" positions\n",
        "loss_from = metric_from(output[:,0,:], y[:,0,:])\n",
        "loss_to = metric_to(output[:,1,:], y[:,1,:])\n",
        "loss = loss_from + loss_to\n"
      ],
      "metadata": {
        "id": "NEdix0wExv1F"
      },
      "execution_count": 13,
      "outputs": []
    },
    {
      "cell_type": "markdown",
      "source": [
        "## **Picking moves**"
      ],
      "metadata": {
        "id": "WZB_luCIyup_"
      }
    },
    {
      "cell_type": "code",
      "source": [
        "def check_mate_single(board):\n",
        "  board = board.copy()\n",
        "  legal_moves = list(board.legal_moves)\n",
        "  for move in legal_moves:\n",
        "    board.push_uci(str(move))\n",
        "    if board.is_checkmate():\n",
        "      move = board.pop()\n",
        "      return move\n",
        "    _ = board.pop()\n",
        "\n",
        "\n",
        "def distribution_over_moves(vals):\n",
        "  probs = np.array(vals)\n",
        "  probs = np.exp(probs)\n",
        "  probs = probs/probs.sum()\n",
        "  probs = probs ** 3\n",
        "  probs = probs /probs.sum()\n",
        "  return probs\n",
        "\n",
        "# Predict function\n",
        "def predict(x):\n",
        "    model.eval()  # Set model to evaluation mode\n",
        "    with torch.no_grad():  # Disable gradient calculations for inference\n",
        "        output = model(x)\n",
        "    return output\n",
        "\n",
        "\n",
        "\n",
        "def choose_move(board, player, color):\n",
        "  legal_moves = list(board.legal_moves)\n",
        "\n",
        "  move = check_mate_single(board)\n",
        "  if move is not None:\n",
        "    return move\n",
        "\n",
        "\n",
        "  x = torch.Tensor(board_2_rep(board)).float().to('cuda')\n",
        "  if color == chess.BLACK:\n",
        "    x *= -1\n",
        "  x = x.unsqueeze(0)\n",
        "  move = predict(x)\n",
        "\n",
        "\n",
        "  vals = []\n",
        "  froms = [str(legal_move)[:2] for legal_move in legal_moves]\n",
        "  froms = list(set(froms))\n",
        "  for from_ in froms:\n",
        "    val = move[0,:,:][8-int(from_[1]), letter_2_num[from_[0]]]\n",
        "    vals.append(val)\n",
        "\n",
        "\n",
        "  probs = distribution_over_moves(vals)\n",
        "\n",
        "  choosen_from = str(np.random.choice(froms, size =1, p=probs)[0])[:2]\n",
        "  vals = []\n",
        "  for legal_move in legal_moves:\n",
        "    from_ = str(legal_move)[:2]\n",
        "    if from_ == choosen_from:\n",
        "      to = str(legal_move)[2:]\n",
        "      val = move[1,:,:][8 - int(to[1]), letter_2_num[to[0]]]\n",
        "      vals.append(val)\n",
        "    else:\n",
        "      vals.append(0)\n",
        "\n",
        "\n",
        "  choosen_move = legal_moves[np.argmax(vals)]\n",
        "  return choosen_move"
      ],
      "metadata": {
        "id": "ZdQcwpjdyw6z"
      },
      "execution_count": 14,
      "outputs": []
    },
    {
      "cell_type": "code",
      "source": [
        "\n"
      ],
      "metadata": {
        "id": "XgoXig6lmH5-"
      },
      "execution_count": 15,
      "outputs": []
    },
    {
      "cell_type": "code",
      "source": [],
      "metadata": {
        "id": "f-bIQHVnonYB"
      },
      "execution_count": null,
      "outputs": []
    }
  ]
}