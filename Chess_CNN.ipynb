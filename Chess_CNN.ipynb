{
 "cells": [
  {
   "cell_type": "markdown",
   "metadata": {
    "colab_type": "text",
    "id": "view-in-github"
   },
   "source": [
    "<a href=\"https://colab.research.google.com/github/banuu0625/MA_Banu/blob/main/Chess_CNN.ipynb\" target=\"_parent\"><img src=\"https://colab.research.google.com/assets/colab-badge.svg\" alt=\"Open In Colab\"/></a>"
   ]
  },
  {
   "cell_type": "code",
   "execution_count": 7,
   "metadata": {
    "colab": {
     "base_uri": "https://localhost:8080/"
    },
    "id": "aMJ-bj9xA35z",
    "outputId": "aa79793a-b34d-40d1-a3b9-b03e0c6bb440"
   },
   "outputs": [
    {
     "name": "stderr",
     "output_type": "stream",
     "text": [
      "\n",
      "[notice] A new release of pip is available: 24.2 -> 24.3.1\n",
      "[notice] To update, run: python.exe -m pip install --upgrade pip\n",
      "ERROR: Invalid requirement: '#install': Expected package name at the start of dependency specifier\n",
      "    #install\n",
      "    ^\n",
      "Syntaxfehler.\n",
      "Der Befehl \"cp\" ist entweder falsch geschrieben oder\n",
      "konnte nicht gefunden werden.\n",
      "Der Befehl \"kaggle\" ist entweder falsch geschrieben oder\n",
      "konnte nicht gefunden werden.\n",
      "Der Befehl \"unzip\" ist entweder falsch geschrieben oder\n",
      "konnte nicht gefunden werden.\n",
      "\n",
      "[notice] A new release of pip is available: 24.2 -> 24.3.1\n",
      "[notice] To update, run: python.exe -m pip install --upgrade pip\n",
      "ERROR: Invalid requirement: '#python': Expected package name at the start of dependency specifier\n",
      "    #python\n",
      "    ^\n"
     ]
    }
   ],
   "source": [
    "! pip install kaggle -q                         #install kaggle\n",
    "! mkdir ~/.kaggle                               #make directory\n",
    "! cp kaggle.json ~/.kaggle/                     #copy json file\n",
    "! kaggle datasets download arevel/chess-games   #download chess games\n",
    "! unzip -qq /content/chess-games.zip            #unzip file\n",
    "! pip install chess -q #python chess package"
   ]
  },
  {
   "cell_type": "code",
   "execution_count": 8,
   "metadata": {
    "colab": {
     "base_uri": "https://localhost:8080/",
     "height": 36
    },
    "id": "NOgKTKeREKmJ",
    "outputId": "86903161-d5cf-4793-b71b-6ca5c961dc9e"
   },
   "outputs": [
    {
     "data": {
      "text/plain": [
       "'chmod 600 /root/.kaggle/kaggle.json'"
      ]
     },
     "execution_count": 8,
     "metadata": {},
     "output_type": "execute_result"
    }
   ],
   "source": [
    "'chmod 600 /root/.kaggle/kaggle.json'"
   ]
  },
  {
   "cell_type": "code",
   "execution_count": 2,
   "metadata": {
    "colab": {
     "base_uri": "https://localhost:8080/"
    },
    "id": "s9BzQFSfE1S4",
    "outputId": "780ee31c-fb43-4a4a-ed86-ed28973a9bf1"
   },
   "outputs": [
    {
     "name": "stdout",
     "output_type": "stream",
     "text": [
      "pygame 2.6.0 (SDL 2.28.4, Python 3.11.4)\n",
      "Hello from the pygame community. https://www.pygame.org/contribute.html\n"
     ]
    }
   ],
   "source": [
    "\n",
    "\n",
    "# General Imports\n",
    "import re  # For regular expressions\n",
    "import gc  # For garbage collection\n",
    "import os  # For file operations\n",
    "import numpy as np  # Numerical computations\n",
    "import pandas as pd  # For loading and handling data\n",
    "import chess  # Python-chess package to manage chess moves and rules\n",
    "import pygame\n",
    "import sys\n",
    "\n",
    "# PyTorch Imports\n",
    "import torch  # PyTorch core library\n",
    "import torch.nn as nn  # Neural network layers and functions\n",
    "import torch.nn.functional as F  # Non-linear activations like ReLU\n",
    "from torch.utils.data import Dataset, DataLoader  # DataLoader and Dataset\n",
    "\n",
    "# Matplotlib for visualization (optional)\n",
    "import matplotlib.pyplot as plt  # For plotting results"
   ]
  },
  {
   "cell_type": "markdown",
   "metadata": {
    "id": "ZlMPkIcNGSmV"
   },
   "source": [
    "### Preprocessing the data"
   ]
  },
  {
   "cell_type": "code",
   "execution_count": 3,
   "metadata": {
    "id": "Ax4rKVjrGF5e"
   },
   "outputs": [],
   "source": [
    "#column index mapping - change letters into numbers and vice versa\n",
    "letter_2_num = {'a':0, 'b':1, 'c':2, 'd':3, 'e':4, 'f':5, 'g':6, 'h':7}\n",
    "num_2_letter = {0:'a', 1:'b', 2:'c', 3:'d', 4:'e', 5:'f', 6:'g', 7:'h'}"
   ]
  },
  {
   "cell_type": "code",
   "execution_count": 4,
   "metadata": {
    "colab": {
     "base_uri": "https://localhost:8080/"
    },
    "id": "edNIFGyaLfRf",
    "outputId": "9ec4869e-59bb-4604-92ca-13a047417e93"
   },
   "outputs": [
    {
     "name": "stdout",
     "output_type": "stream",
     "text": [
      "r n b q k b n r\n",
      "p p p p p p p p\n",
      ". . . . . . . .\n",
      ". . . . . . . .\n",
      ". . . . . . . .\n",
      ". . . . . . . .\n",
      "P P P P P P P P\n",
      "R N B Q K B N R\n",
      "\n"
     ]
    },
    {
     "data": {
      "text/plain": [
       "array([[[ 0,  0,  0,  0,  0,  0,  0,  0],\n",
       "        [-1, -1, -1, -1, -1, -1, -1, -1],\n",
       "        [ 0,  0,  0,  0,  0,  0,  0,  0],\n",
       "        [ 0,  0,  0,  0,  0,  0,  0,  0],\n",
       "        [ 0,  0,  0,  0,  0,  0,  0,  0],\n",
       "        [ 0,  0,  0,  0,  0,  0,  0,  0],\n",
       "        [ 1,  1,  1,  1,  1,  1,  1,  1],\n",
       "        [ 0,  0,  0,  0,  0,  0,  0,  0]],\n",
       "\n",
       "       [[-1,  0,  0,  0,  0,  0,  0, -1],\n",
       "        [ 0,  0,  0,  0,  0,  0,  0,  0],\n",
       "        [ 0,  0,  0,  0,  0,  0,  0,  0],\n",
       "        [ 0,  0,  0,  0,  0,  0,  0,  0],\n",
       "        [ 0,  0,  0,  0,  0,  0,  0,  0],\n",
       "        [ 0,  0,  0,  0,  0,  0,  0,  0],\n",
       "        [ 0,  0,  0,  0,  0,  0,  0,  0],\n",
       "        [ 1,  0,  0,  0,  0,  0,  0,  1]],\n",
       "\n",
       "       [[ 0, -1,  0,  0,  0,  0, -1,  0],\n",
       "        [ 0,  0,  0,  0,  0,  0,  0,  0],\n",
       "        [ 0,  0,  0,  0,  0,  0,  0,  0],\n",
       "        [ 0,  0,  0,  0,  0,  0,  0,  0],\n",
       "        [ 0,  0,  0,  0,  0,  0,  0,  0],\n",
       "        [ 0,  0,  0,  0,  0,  0,  0,  0],\n",
       "        [ 0,  0,  0,  0,  0,  0,  0,  0],\n",
       "        [ 0,  1,  0,  0,  0,  0,  1,  0]],\n",
       "\n",
       "       [[ 0,  0, -1,  0,  0, -1,  0,  0],\n",
       "        [ 0,  0,  0,  0,  0,  0,  0,  0],\n",
       "        [ 0,  0,  0,  0,  0,  0,  0,  0],\n",
       "        [ 0,  0,  0,  0,  0,  0,  0,  0],\n",
       "        [ 0,  0,  0,  0,  0,  0,  0,  0],\n",
       "        [ 0,  0,  0,  0,  0,  0,  0,  0],\n",
       "        [ 0,  0,  0,  0,  0,  0,  0,  0],\n",
       "        [ 0,  0,  1,  0,  0,  1,  0,  0]],\n",
       "\n",
       "       [[ 0,  0,  0, -1,  0,  0,  0,  0],\n",
       "        [ 0,  0,  0,  0,  0,  0,  0,  0],\n",
       "        [ 0,  0,  0,  0,  0,  0,  0,  0],\n",
       "        [ 0,  0,  0,  0,  0,  0,  0,  0],\n",
       "        [ 0,  0,  0,  0,  0,  0,  0,  0],\n",
       "        [ 0,  0,  0,  0,  0,  0,  0,  0],\n",
       "        [ 0,  0,  0,  0,  0,  0,  0,  0],\n",
       "        [ 0,  0,  0,  1,  0,  0,  0,  0]],\n",
       "\n",
       "       [[ 0,  0,  0,  0, -1,  0,  0,  0],\n",
       "        [ 0,  0,  0,  0,  0,  0,  0,  0],\n",
       "        [ 0,  0,  0,  0,  0,  0,  0,  0],\n",
       "        [ 0,  0,  0,  0,  0,  0,  0,  0],\n",
       "        [ 0,  0,  0,  0,  0,  0,  0,  0],\n",
       "        [ 0,  0,  0,  0,  0,  0,  0,  0],\n",
       "        [ 0,  0,  0,  0,  0,  0,  0,  0],\n",
       "        [ 0,  0,  0,  0,  1,  0,  0,  0]]])"
      ]
     },
     "execution_count": 4,
     "metadata": {},
     "output_type": "execute_result"
    }
   ],
   "source": [
    "#Chess board to matrix\n",
    "\n",
    "# Idea : CNN's can acces 3D inputs !\n",
    "# Create feature map for each chess piece type {pawn, knight, bishop} , white pieces =1, black pieces =-1\n",
    "# CNN board can learn the rule and make moves based on the state of the game\n",
    "\n",
    "\n",
    "\n",
    "\n",
    "board = chess.Board()\n",
    "\n",
    "def board_2_rep(board):   #board object from chess package\n",
    "  pieces = ['p', 'r', 'n', 'b', 'q', 'k']\n",
    "  layers = []\n",
    "  for piece in pieces:\n",
    "    layers.append(create_rep_layer(board, piece)) #create feature map for each chess type\n",
    "  board_rep = np.stack(layers) #transform feature maps into 3D-tensor\n",
    "  return board_rep\n",
    "\n",
    "\n",
    "def create_rep_layer(board, type):\n",
    "\n",
    "  s = str(board)\n",
    "  s = re.sub(f'[^{type}{type.upper()} \\n]', '.', s) #replace everything with a '.' EXCEPT[^] desired piece (e.g pawns -> p and P)\n",
    "  s = re.sub(f'{type}', '-1', s)                    #replace black pawns with -1's\n",
    "  s = re.sub(f'{type.upper()}','1',s)               #replace white pawns with 1's\n",
    "  s = re.sub(f'\\.', '0', s)                         #replace dots with 0's\n",
    "\n",
    "\n",
    "  board_mat = []\n",
    "  for row in s.split('\\n'):                         #loop through lines\n",
    "    row = row.split(' ')                            #split by whitespaces\n",
    "    row = [int(x) for x in row]                     #replace string numbers with actual integers\n",
    "    board_mat.append(row)                           #represend in np array\n",
    "\n",
    "  return np.array(board_mat)\n",
    "\n",
    "\n",
    "print(f'{board}\\n')\n",
    "board_2_rep(board)\n"
   ]
  },
  {
   "cell_type": "markdown",
   "metadata": {
    "id": "byjy4mIeYGBF"
   },
   "source": [
    "## **Represent a move**"
   ]
  },
  {
   "cell_type": "code",
   "execution_count": 5,
   "metadata": {
    "colab": {
     "base_uri": "https://localhost:8080/"
    },
    "id": "kt7yzULBLo3m",
    "outputId": "49e9733a-25d3-4283-daf5-78885fbf5614"
   },
   "outputs": [
    {
     "data": {
      "text/plain": [
       "array([[[0., 0., 0., 0., 0., 0., 0., 0.],\n",
       "        [0., 0., 0., 0., 0., 0., 0., 0.],\n",
       "        [0., 0., 0., 0., 0., 0., 0., 0.],\n",
       "        [0., 0., 0., 0., 0., 0., 0., 0.],\n",
       "        [0., 0., 0., 0., 0., 0., 0., 0.],\n",
       "        [0., 0., 0., 0., 0., 0., 0., 0.],\n",
       "        [0., 0., 0., 0., 1., 0., 0., 0.],\n",
       "        [0., 0., 0., 0., 0., 0., 0., 0.]],\n",
       "\n",
       "       [[0., 0., 0., 0., 0., 0., 0., 0.],\n",
       "        [0., 0., 0., 0., 0., 0., 0., 0.],\n",
       "        [0., 0., 0., 0., 0., 0., 0., 0.],\n",
       "        [0., 0., 0., 0., 0., 0., 0., 0.],\n",
       "        [0., 0., 0., 0., 1., 0., 0., 0.],\n",
       "        [0., 0., 0., 0., 0., 0., 0., 0.],\n",
       "        [0., 0., 0., 0., 0., 0., 0., 0.],\n",
       "        [0., 0., 0., 0., 0., 0., 0., 0.]]])"
      ]
     },
     "execution_count": 5,
     "metadata": {},
     "output_type": "execute_result"
    }
   ],
   "source": [
    "# BASIC IDEA\n",
    "\n",
    "#   \"from matrix\"             \"to matrix\"\n",
    "\n",
    "# [[0 0 0 0 0 0 0 0]        [[0 0 0 0 0 0 0 0]\n",
    "# [0 0 0 0 0 0 0 0]          [0 0 0 0 0 0 0 0]\n",
    "# [0 0 0 0 0 0 0 0]          [0 0 0 0 0 0 0 0]\n",
    "# [0 0 0 0 0 0 0 0]          [0 0 0 0 0 0 0 0]\n",
    "# [0 0 0 0 0 0 0 0]          [0 0 0 0 0 1 0 0]\n",
    "# [0 0 0 0 0 0 0 0]          [0 0 0 0 0 0 0 0]\n",
    "# [0 0 0 0 1 0 0 0]          [0 0 0 0 0 0 0 0]\n",
    "# [0 0 0 0 0 0 0 0]]         [0 0 0 0 0 0 0 0]]\n",
    "\n",
    "\n",
    "\n",
    "def move_2_rep(move, board ):\n",
    "  board.push_san(move).uci()                                    #convert dataset from SAN into UCI  format : 4 letters {d4e5}\n",
    "  move = str(board.pop())\n",
    "\n",
    "  from_output_layer = np.zeros((8,8))                           #create 2D array 8x8 zeros\n",
    "  from_row = 8 - int(move[1])                                   #determine row\n",
    "  from_column = letter_2_num[move[0]]                           #determine column, convert into number -> now we now the intial position(row,column)\n",
    "  from_output_layer[from_row, from_column] = 1                  #convert 0 to 1 on determined position\n",
    "\n",
    "  to_ouptut_layer = np.zeros((8,8))                             #create 2D array 8x8 zeros\n",
    "  to_row = 8 - int(move[3])                                     #determine row\n",
    "  to_column = letter_2_num[move[2]]                             #determine clomn -> we know the position the piece moves to\n",
    "  to_ouptut_layer[to_row,to_column] = 1                         #convert 0 into a 1 on determined position\n",
    "\n",
    "  return np.stack([from_output_layer, to_ouptut_layer])         #convert to a numpy array (stack = adding together)\n",
    "\n",
    "\n",
    "move_2_rep('e2e4', board)\n",
    "\n",
    "\n"
   ]
  },
  {
   "cell_type": "markdown",
   "metadata": {
    "id": "sTV4wHNQ_FUN"
   },
   "source": [
    "## **clear SAN**"
   ]
  },
  {
   "cell_type": "code",
   "execution_count": 14,
   "metadata": {
    "colab": {
     "base_uri": "https://localhost:8080/"
    },
    "id": "lhwVsykX_C7l",
    "outputId": "8e2023c8-cdb7-4fc0-f12b-b3f0f72be481"
   },
   "outputs": [
    {
     "data": {
      "text/plain": [
       "['d4', 'd5', 'Nf3', 'Nf6', 'Bf4', 'c6', 'e3', 'Bg4', '5.Be2']"
      ]
     },
     "execution_count": 14,
     "metadata": {},
     "output_type": "execute_result"
    }
   ],
   "source": [
    "def create_move_list(s):\n",
    "  return re.sub('\\d*\\. ', '',s).split(' ')[:-1]                 #dataset = 1. (move) 2. (move), we should clear numbers followed by . (e.g 1., 2., 3.) with a white space ('')\n",
    "\n",
    "\n",
    "\n",
    "\n",
    "\n",
    "create_move_list('1. d4 d5 2. Nf3 Nf6 3. Bf4 c6 4. e3 Bg4 5.. Be2 Nbd7')"
   ]
  },
  {
   "cell_type": "markdown",
   "metadata": {
    "id": "4cfYZE7KvKFl"
   },
   "source": [
    "### **The Raw Data**"
   ]
  },
  {
   "cell_type": "code",
   "execution_count": null,
   "metadata": {
    "colab": {
     "base_uri": "https://localhost:8080/"
    },
    "id": "1RMlTNpBvNdz",
    "outputId": "ddd09a3c-0d7f-49e1-985f-3765733c513f"
   },
   "outputs": [
    {
     "name": "stdout",
     "output_type": "stream",
     "text": [
      "883376\n"
     ]
    }
   ],
   "source": [
    "\n",
    "chess_data_raw = pd.read_csv('/content/chess_games.csv', usecols =['AN','WhiteElo']) #asses only the columns we need\n",
    "chess_data = chess_data_raw[chess_data_raw['WhiteElo']> 2000] #filter by elo\n",
    "del chess_data_raw #delete games which are less then required elo\n",
    "gc.collect() #clear RAMSPACE\n",
    "chess_data = chess_data[['AN']] # del 'WhiteElo'\n",
    "chess_data = chess_data[~chess_data['AN'].str.contains('{')] #clear up characters which code can't handle\n",
    "chess_data = chess_data[chess_data['AN'].str.len()>20] #clear too short games\n",
    "print(chess_data.shape[0])"
   ]
  },
  {
   "cell_type": "code",
   "execution_count": null,
   "metadata": {
    "colab": {
     "base_uri": "https://localhost:8080/"
    },
    "id": "dyQZu4eI12JH",
    "outputId": "108f9086-9af7-4ff3-d008-4c02543528c2"
   },
   "outputs": [
    {
     "name": "stdout",
     "output_type": "stream",
     "text": [
      "                                                    AN\n",
      "7    1. d4 d5 2. Nf3 Nf6 3. Bf4 c6 4. e3 Bg4 5. Be2...\n",
      "8    1. d4 Nf6 2. Bf4 e6 3. e3 d5 4. Nf3 h6 5. Bd3 ...\n",
      "13   1. b4 e6 2. Bb2 d5 3. Nf3 Nf6 4. b5 Be7 5. e3 ...\n",
      "26   1. e4 d6 2. d4 Nf6 3. Bd3 g6 4. h4 c5 5. h5 Nx...\n",
      "39   1. e4 e6 2. d4 d5 3. Nc3 Bb4 4. e5 c5 5. a3 cx...\n",
      "44   1. d4 d5 2. Nc3 c6 3. Nf3 Nf6 4. Bg5 e6 5. e3 ...\n",
      "75   1. Nf3 Nc6 2. d4 e5 3. e3 exd4 4. Nxd4 d5 5. N...\n",
      "85   1. d4 Nf6 2. Nf3 e6 3. g3 d5 4. Bg2 c5 5. O-O ...\n",
      "104  1. Nc3 d5 2. b3 d4 3. Ne4 f5 4. Ng3 f4 5. Ne4 ...\n",
      "109  1. e4 Nc6 2. Nf3 d6 3. d4 Nf6 4. Nc3 g6 5. Bd3...\n"
     ]
    }
   ],
   "source": [
    "print(chess_data.head(10))"
   ]
  },
  {
   "cell_type": "markdown",
   "metadata": {
    "id": "botWCu6cyp65"
   },
   "source": [
    "## **PyTorch Classes**"
   ]
  },
  {
   "cell_type": "code",
   "execution_count": 5,
   "metadata": {
    "id": "HASm-lnhypt1"
   },
   "outputs": [],
   "source": [
    "class ChessDataset(Dataset):\n",
    "  def __init__(self,games):\n",
    "    super(ChessDataset, self).__init__() #call the constructor of its parent class\n",
    "    self.games = games\n",
    "    \n",
    "  def __len__(self):\n",
    "      return 40_000 #use 40k games, because moves are randomly selected anyway (save data?)\n",
    "\n",
    "  def __getitem__(self, index):\n",
    "    game_i = np.random.randint(self.games.shape[0]) #random integer from \"Dataset\" (Where did Dataset come from, what is the function of it?)\n",
    "    random_game = chess_data['AN'].values[game_i]   #this integer = random game\n",
    "    moves = create_move_list(random_game) #clean up notation by calling above created function\n",
    "    game_state_i = np.random.randint(len(moves)-1) #pick random move, and -1\n",
    "    next_move = moves[game_state_i] #next move is game_state_i + 1\n",
    "    moves = moves[:game_state_i] #all moves until current move\n",
    "    board = chess.Board()\n",
    "    for move in moves :\n",
    "      board.push_san(move)  #loop through all moves\n",
    "\n",
    "    x = board_2_rep(board) #above function for feature map of every position\n",
    "    y = move_2_rep(next_move, board)  #feature map for played move\n",
    "    if game_state_i % 2 == 1: #always play positive values\n",
    "      x*= -1\n",
    "    return x, y\n",
    "\n",
    "\n"
   ]
  },
  {
   "cell_type": "markdown",
   "metadata": {
    "id": "_UAC01cVqwD5"
   },
   "source": [
    "## **Dataloader**"
   ]
  },
  {
   "cell_type": "code",
   "execution_count": 9,
   "metadata": {
    "id": "hfKA54K4q1kl"
   },
   "outputs": [
    {
     "ename": "NameError",
     "evalue": "name 'chess_data' is not defined",
     "output_type": "error",
     "traceback": [
      "\u001b[1;31m---------------------------------------------------------------------------\u001b[0m",
      "\u001b[1;31mNameError\u001b[0m                                 Traceback (most recent call last)",
      "Cell \u001b[1;32mIn[9], line 1\u001b[0m\n\u001b[1;32m----> 1\u001b[0m data_train \u001b[38;5;241m=\u001b[39m ChessDataset(\u001b[43mchess_data\u001b[49m[\u001b[38;5;124m'\u001b[39m\u001b[38;5;124mAN\u001b[39m\u001b[38;5;124m'\u001b[39m])                                                 \u001b[38;5;66;03m#training data with moves\u001b[39;00m\n\u001b[0;32m      2\u001b[0m data_train_loader \u001b[38;5;241m=\u001b[39m DataLoader(data_train, batch_size \u001b[38;5;241m=\u001b[39m \u001b[38;5;241m32\u001b[39m, shuffle \u001b[38;5;241m=\u001b[39m \u001b[38;5;28;01mTrue\u001b[39;00m, drop_last\u001b[38;5;241m=\u001b[39m\u001b[38;5;28;01mTrue\u001b[39;00m) \u001b[38;5;66;03m# 40000/32 = mini-batches with 1250 games each. shuffle for randomnes, drop last minibatch if not correct size\u001b[39;00m\n",
      "\u001b[1;31mNameError\u001b[0m: name 'chess_data' is not defined"
     ]
    }
   ],
   "source": [
    "data_train = ChessDataset(chess_data['AN'])                                                 #training data with moves\n",
    "data_train_loader = DataLoader(data_train, batch_size = 32, shuffle = True, drop_last=True) # 40000/32 = mini-batches with 1250 games each. shuffle for randomnes, drop last minibatch if not correct size\n"
   ]
  },
  {
   "cell_type": "markdown",
   "metadata": {
    "id": "yPTuO8Ogsmkz"
   },
   "source": [
    "## **CNN**"
   ]
  },
  {
   "cell_type": "code",
   "execution_count": 6,
   "metadata": {
    "id": "xrBSBofRspB1"
   },
   "outputs": [],
   "source": [
    "#Network = several modules one after another\n",
    "\n",
    "class Module(nn.Module):\n",
    "    def __init__(self, hidden_size):\n",
    "        super(Module, self).__init__()\n",
    "        self.conv1 = nn.Conv2d(hidden_size, hidden_size, 3, stride=1, padding=1)          #2 convolutional layers = extract feautres, patterns\n",
    "        self.conv2 = nn.Conv2d(hidden_size, hidden_size, 3, stride=1, padding=1)\n",
    "        self.bn1 = nn.BatchNorm2d(hidden_size)                                            # batch normalisation layers = reduce overfitting and improve the generalization ability of the model\n",
    "        self.bn2 = nn.BatchNorm2d(hidden_size)\n",
    "        self.activation1 = nn.SELU()                                                      #activation function for to add non-linearity into the model,\n",
    "        self.activation2 = nn.SELU()\n",
    "\n",
    "    def forward(self, x):\n",
    "        x_input = torch.clone(x)                                                          # Clone input for skip connection\n",
    "        x = self.conv1(x)\n",
    "        x = self.bn1(x)\n",
    "        x = self.activation1(x)\n",
    "        x = self.conv2(x)\n",
    "        x = self.bn2(x)\n",
    "        x = x + x_input                                                                   # Residual connection, should improve learning\n",
    "        x = self.activation2(x)\n",
    "        return x\n",
    "\n",
    "class ChessNet(nn.Module):\n",
    "    def __init__(self, hidden_layers=4, hidden_size=200):\n",
    "        super(ChessNet, self).__init__()\n",
    "        self.hidden_layers = hidden_layers\n",
    "        self.input_layer = nn.Conv2d(6, hidden_size, 3, stride=1, padding=1)\n",
    "        self.module_list = nn.ModuleList([Module(hidden_size) for i in range(hidden_layers)]) #ModuleList connected with above \"Module\"\n",
    "        self.output_layer = nn.Conv2d(hidden_size, 2, 3, stride=1, padding=1)\n",
    "\n",
    "    def forward(self, x):\n",
    "        x = self.input_layer(x)\n",
    "        x = F.relu(x)\n",
    "\n",
    "        for i in range(self.hidden_layers):\n",
    "            x = self.module_list[i](x)\n",
    "\n",
    "        x = self.output_layer(x)\n",
    "\n",
    "        return x\n",
    "\n",
    "\n",
    "\n",
    "\n"
   ]
  },
  {
   "cell_type": "markdown",
   "metadata": {
    "id": "3XKgid2txt3i"
   },
   "source": [
    "## **Losses**"
   ]
  },
  {
   "cell_type": "code",
   "execution_count": 11,
   "metadata": {
    "id": "FwQfieAWQgT0"
   },
   "outputs": [
    {
     "ename": "AssertionError",
     "evalue": "Torch not compiled with CUDA enabled",
     "output_type": "error",
     "traceback": [
      "\u001b[1;31m---------------------------------------------------------------------------\u001b[0m",
      "\u001b[1;31mAssertionError\u001b[0m                            Traceback (most recent call last)",
      "Cell \u001b[1;32mIn[11], line 2\u001b[0m\n\u001b[0;32m      1\u001b[0m \u001b[38;5;66;03m# Assume we have already defined the neural network model as `chess_net`\u001b[39;00m\n\u001b[1;32m----> 2\u001b[0m model \u001b[38;5;241m=\u001b[39m \u001b[43mChessNet\u001b[49m\u001b[43m(\u001b[49m\u001b[43mhidden_layers\u001b[49m\u001b[38;5;241;43m=\u001b[39;49m\u001b[38;5;241;43m4\u001b[39;49m\u001b[43m,\u001b[49m\u001b[43m \u001b[49m\u001b[43mhidden_size\u001b[49m\u001b[38;5;241;43m=\u001b[39;49m\u001b[38;5;241;43m200\u001b[39;49m\u001b[43m)\u001b[49m\u001b[38;5;241;43m.\u001b[39;49m\u001b[43mto\u001b[49m\u001b[43m(\u001b[49m\u001b[38;5;124;43m'\u001b[39;49m\u001b[38;5;124;43mcuda\u001b[39;49m\u001b[38;5;124;43m'\u001b[39;49m\u001b[43m)\u001b[49m  \u001b[38;5;66;03m# Make sure the model is on the GPU\u001b[39;00m\n\u001b[0;32m      3\u001b[0m x, y \u001b[38;5;241m=\u001b[39m \u001b[38;5;28mnext\u001b[39m(\u001b[38;5;28miter\u001b[39m(data_train_loader))  \u001b[38;5;66;03m# Sample from DataLoader\u001b[39;00m\n\u001b[0;32m      4\u001b[0m x, y \u001b[38;5;241m=\u001b[39m x\u001b[38;5;241m.\u001b[39mfloat()\u001b[38;5;241m.\u001b[39mto(\u001b[38;5;124m'\u001b[39m\u001b[38;5;124mcuda\u001b[39m\u001b[38;5;124m'\u001b[39m), y\u001b[38;5;241m.\u001b[39mto(\u001b[38;5;124m'\u001b[39m\u001b[38;5;124mcuda\u001b[39m\u001b[38;5;124m'\u001b[39m)     \u001b[38;5;66;03m# Move data to GPU\u001b[39;00m\n",
      "File \u001b[1;32mc:\\Users\\banui\\AppData\\Local\\Programs\\Python\\Python311\\Lib\\site-packages\\torch\\nn\\modules\\module.py:1174\u001b[0m, in \u001b[0;36mModule.to\u001b[1;34m(self, *args, **kwargs)\u001b[0m\n\u001b[0;32m   1171\u001b[0m         \u001b[38;5;28;01melse\u001b[39;00m:\n\u001b[0;32m   1172\u001b[0m             \u001b[38;5;28;01mraise\u001b[39;00m\n\u001b[1;32m-> 1174\u001b[0m \u001b[38;5;28;01mreturn\u001b[39;00m \u001b[38;5;28;43mself\u001b[39;49m\u001b[38;5;241;43m.\u001b[39;49m\u001b[43m_apply\u001b[49m\u001b[43m(\u001b[49m\u001b[43mconvert\u001b[49m\u001b[43m)\u001b[49m\n",
      "File \u001b[1;32mc:\\Users\\banui\\AppData\\Local\\Programs\\Python\\Python311\\Lib\\site-packages\\torch\\nn\\modules\\module.py:780\u001b[0m, in \u001b[0;36mModule._apply\u001b[1;34m(self, fn, recurse)\u001b[0m\n\u001b[0;32m    778\u001b[0m \u001b[38;5;28;01mif\u001b[39;00m recurse:\n\u001b[0;32m    779\u001b[0m     \u001b[38;5;28;01mfor\u001b[39;00m module \u001b[38;5;129;01min\u001b[39;00m \u001b[38;5;28mself\u001b[39m\u001b[38;5;241m.\u001b[39mchildren():\n\u001b[1;32m--> 780\u001b[0m         \u001b[43mmodule\u001b[49m\u001b[38;5;241;43m.\u001b[39;49m\u001b[43m_apply\u001b[49m\u001b[43m(\u001b[49m\u001b[43mfn\u001b[49m\u001b[43m)\u001b[49m\n\u001b[0;32m    782\u001b[0m \u001b[38;5;28;01mdef\u001b[39;00m \u001b[38;5;21mcompute_should_use_set_data\u001b[39m(tensor, tensor_applied):\n\u001b[0;32m    783\u001b[0m     \u001b[38;5;28;01mif\u001b[39;00m torch\u001b[38;5;241m.\u001b[39m_has_compatible_shallow_copy_type(tensor, tensor_applied):\n\u001b[0;32m    784\u001b[0m         \u001b[38;5;66;03m# If the new tensor has compatible tensor type as the existing tensor,\u001b[39;00m\n\u001b[0;32m    785\u001b[0m         \u001b[38;5;66;03m# the current behavior is to change the tensor in-place using `.data =`,\u001b[39;00m\n\u001b[1;32m   (...)\u001b[0m\n\u001b[0;32m    790\u001b[0m         \u001b[38;5;66;03m# global flag to let the user control whether they want the future\u001b[39;00m\n\u001b[0;32m    791\u001b[0m         \u001b[38;5;66;03m# behavior of overwriting the existing tensor or not.\u001b[39;00m\n",
      "File \u001b[1;32mc:\\Users\\banui\\AppData\\Local\\Programs\\Python\\Python311\\Lib\\site-packages\\torch\\nn\\modules\\module.py:805\u001b[0m, in \u001b[0;36mModule._apply\u001b[1;34m(self, fn, recurse)\u001b[0m\n\u001b[0;32m    801\u001b[0m \u001b[38;5;66;03m# Tensors stored in modules are graph leaves, and we don't want to\u001b[39;00m\n\u001b[0;32m    802\u001b[0m \u001b[38;5;66;03m# track autograd history of `param_applied`, so we have to use\u001b[39;00m\n\u001b[0;32m    803\u001b[0m \u001b[38;5;66;03m# `with torch.no_grad():`\u001b[39;00m\n\u001b[0;32m    804\u001b[0m \u001b[38;5;28;01mwith\u001b[39;00m torch\u001b[38;5;241m.\u001b[39mno_grad():\n\u001b[1;32m--> 805\u001b[0m     param_applied \u001b[38;5;241m=\u001b[39m \u001b[43mfn\u001b[49m\u001b[43m(\u001b[49m\u001b[43mparam\u001b[49m\u001b[43m)\u001b[49m\n\u001b[0;32m    806\u001b[0m p_should_use_set_data \u001b[38;5;241m=\u001b[39m compute_should_use_set_data(param, param_applied)\n\u001b[0;32m    808\u001b[0m \u001b[38;5;66;03m# subclasses may have multiple child tensors so we need to use swap_tensors\u001b[39;00m\n",
      "File \u001b[1;32mc:\\Users\\banui\\AppData\\Local\\Programs\\Python\\Python311\\Lib\\site-packages\\torch\\nn\\modules\\module.py:1160\u001b[0m, in \u001b[0;36mModule.to.<locals>.convert\u001b[1;34m(t)\u001b[0m\n\u001b[0;32m   1153\u001b[0m     \u001b[38;5;28;01mif\u001b[39;00m convert_to_format \u001b[38;5;129;01mis\u001b[39;00m \u001b[38;5;129;01mnot\u001b[39;00m \u001b[38;5;28;01mNone\u001b[39;00m \u001b[38;5;129;01mand\u001b[39;00m t\u001b[38;5;241m.\u001b[39mdim() \u001b[38;5;129;01min\u001b[39;00m (\u001b[38;5;241m4\u001b[39m, \u001b[38;5;241m5\u001b[39m):\n\u001b[0;32m   1154\u001b[0m         \u001b[38;5;28;01mreturn\u001b[39;00m t\u001b[38;5;241m.\u001b[39mto(\n\u001b[0;32m   1155\u001b[0m             device,\n\u001b[0;32m   1156\u001b[0m             dtype \u001b[38;5;28;01mif\u001b[39;00m t\u001b[38;5;241m.\u001b[39mis_floating_point() \u001b[38;5;129;01mor\u001b[39;00m t\u001b[38;5;241m.\u001b[39mis_complex() \u001b[38;5;28;01melse\u001b[39;00m \u001b[38;5;28;01mNone\u001b[39;00m,\n\u001b[0;32m   1157\u001b[0m             non_blocking,\n\u001b[0;32m   1158\u001b[0m             memory_format\u001b[38;5;241m=\u001b[39mconvert_to_format,\n\u001b[0;32m   1159\u001b[0m         )\n\u001b[1;32m-> 1160\u001b[0m     \u001b[38;5;28;01mreturn\u001b[39;00m \u001b[43mt\u001b[49m\u001b[38;5;241;43m.\u001b[39;49m\u001b[43mto\u001b[49m\u001b[43m(\u001b[49m\n\u001b[0;32m   1161\u001b[0m \u001b[43m        \u001b[49m\u001b[43mdevice\u001b[49m\u001b[43m,\u001b[49m\n\u001b[0;32m   1162\u001b[0m \u001b[43m        \u001b[49m\u001b[43mdtype\u001b[49m\u001b[43m \u001b[49m\u001b[38;5;28;43;01mif\u001b[39;49;00m\u001b[43m \u001b[49m\u001b[43mt\u001b[49m\u001b[38;5;241;43m.\u001b[39;49m\u001b[43mis_floating_point\u001b[49m\u001b[43m(\u001b[49m\u001b[43m)\u001b[49m\u001b[43m \u001b[49m\u001b[38;5;129;43;01mor\u001b[39;49;00m\u001b[43m \u001b[49m\u001b[43mt\u001b[49m\u001b[38;5;241;43m.\u001b[39;49m\u001b[43mis_complex\u001b[49m\u001b[43m(\u001b[49m\u001b[43m)\u001b[49m\u001b[43m \u001b[49m\u001b[38;5;28;43;01melse\u001b[39;49;00m\u001b[43m \u001b[49m\u001b[38;5;28;43;01mNone\u001b[39;49;00m\u001b[43m,\u001b[49m\n\u001b[0;32m   1163\u001b[0m \u001b[43m        \u001b[49m\u001b[43mnon_blocking\u001b[49m\u001b[43m,\u001b[49m\n\u001b[0;32m   1164\u001b[0m \u001b[43m    \u001b[49m\u001b[43m)\u001b[49m\n\u001b[0;32m   1165\u001b[0m \u001b[38;5;28;01mexcept\u001b[39;00m \u001b[38;5;167;01mNotImplementedError\u001b[39;00m \u001b[38;5;28;01mas\u001b[39;00m e:\n\u001b[0;32m   1166\u001b[0m     \u001b[38;5;28;01mif\u001b[39;00m \u001b[38;5;28mstr\u001b[39m(e) \u001b[38;5;241m==\u001b[39m \u001b[38;5;124m\"\u001b[39m\u001b[38;5;124mCannot copy out of meta tensor; no data!\u001b[39m\u001b[38;5;124m\"\u001b[39m:\n",
      "File \u001b[1;32mc:\\Users\\banui\\AppData\\Local\\Programs\\Python\\Python311\\Lib\\site-packages\\torch\\cuda\\__init__.py:305\u001b[0m, in \u001b[0;36m_lazy_init\u001b[1;34m()\u001b[0m\n\u001b[0;32m    300\u001b[0m     \u001b[38;5;28;01mraise\u001b[39;00m \u001b[38;5;167;01mRuntimeError\u001b[39;00m(\n\u001b[0;32m    301\u001b[0m         \u001b[38;5;124m\"\u001b[39m\u001b[38;5;124mCannot re-initialize CUDA in forked subprocess. To use CUDA with \u001b[39m\u001b[38;5;124m\"\u001b[39m\n\u001b[0;32m    302\u001b[0m         \u001b[38;5;124m\"\u001b[39m\u001b[38;5;124mmultiprocessing, you must use the \u001b[39m\u001b[38;5;124m'\u001b[39m\u001b[38;5;124mspawn\u001b[39m\u001b[38;5;124m'\u001b[39m\u001b[38;5;124m start method\u001b[39m\u001b[38;5;124m\"\u001b[39m\n\u001b[0;32m    303\u001b[0m     )\n\u001b[0;32m    304\u001b[0m \u001b[38;5;28;01mif\u001b[39;00m \u001b[38;5;129;01mnot\u001b[39;00m \u001b[38;5;28mhasattr\u001b[39m(torch\u001b[38;5;241m.\u001b[39m_C, \u001b[38;5;124m\"\u001b[39m\u001b[38;5;124m_cuda_getDeviceCount\u001b[39m\u001b[38;5;124m\"\u001b[39m):\n\u001b[1;32m--> 305\u001b[0m     \u001b[38;5;28;01mraise\u001b[39;00m \u001b[38;5;167;01mAssertionError\u001b[39;00m(\u001b[38;5;124m\"\u001b[39m\u001b[38;5;124mTorch not compiled with CUDA enabled\u001b[39m\u001b[38;5;124m\"\u001b[39m)\n\u001b[0;32m    306\u001b[0m \u001b[38;5;28;01mif\u001b[39;00m _cudart \u001b[38;5;129;01mis\u001b[39;00m \u001b[38;5;28;01mNone\u001b[39;00m:\n\u001b[0;32m    307\u001b[0m     \u001b[38;5;28;01mraise\u001b[39;00m \u001b[38;5;167;01mAssertionError\u001b[39;00m(\n\u001b[0;32m    308\u001b[0m         \u001b[38;5;124m\"\u001b[39m\u001b[38;5;124mlibcudart functions unavailable. It looks like you have a broken build?\u001b[39m\u001b[38;5;124m\"\u001b[39m\n\u001b[0;32m    309\u001b[0m     )\n",
      "\u001b[1;31mAssertionError\u001b[0m: Torch not compiled with CUDA enabled"
     ]
    }
   ],
   "source": [
    "# Assume we have already defined the neural network model as `chess_net`\n",
    "model = ChessNet(hidden_layers=4, hidden_size=200).to('cuda')  # Make sure the model is on the GPU\n",
    "x, y = next(iter(data_train_loader))  # Sample from DataLoader\n",
    "x, y = x.float().to('cuda'), y.to('cuda')     # Move data to GPU\n",
    "\n",
    "# Forward pass through the model\n",
    "output = model(x)\n",
    "\n",
    "# Loss calculation\n",
    "metric_from = nn.CrossEntropyLoss()\n",
    "metric_to = nn.CrossEntropyLoss()\n",
    "\n",
    "# Calculating the loss for \"from\" and \"to\" positions\n",
    "loss_from = metric_from(output[:,0,:], y[:,0,:])\n",
    "loss_to = metric_to(output[:,1,:], y[:,1,:])\n",
    "loss = loss_from + loss_to\n"
   ]
  },
  {
   "cell_type": "markdown",
   "metadata": {
    "id": "WZB_luCIyup_"
   },
   "source": [
    "## **Picking moves**"
   ]
  },
  {
   "cell_type": "code",
   "execution_count": 7,
   "metadata": {
    "id": "ZdQcwpjdyw6z"
   },
   "outputs": [],
   "source": [
    "def check_mate_single(board):\n",
    "  board = board.copy()\n",
    "  legal_moves = list(board.legal_moves)\n",
    "  for move in legal_moves:\n",
    "    board.push_uci(str(move))\n",
    "    if board.is_checkmate():\n",
    "      move = board.pop()\n",
    "      return move\n",
    "    _ = board.pop()\n",
    "\n",
    "\n",
    "def distribution_over_moves(vals):\n",
    "  probs = np.array(vals)\n",
    "  probs = np.exp(probs)\n",
    "  probs = probs/probs.sum()\n",
    "  probs = probs ** 3\n",
    "  probs = probs /probs.sum()\n",
    "  return probs\n",
    "\n",
    "# Predict function\n",
    "def predict(x):\n",
    "    model.eval()  # Set model to evaluation mode\n",
    "    with torch.no_grad():  # Disable gradient calculations for inference\n",
    "        output = model(x)\n",
    "    return output\n",
    "\n",
    "\n",
    "\n",
    "def choose_move(board, player, color):\n",
    "    legal_moves = list(board.legal_moves)\n",
    "\n",
    "    # Check for immediate checkmate\n",
    "    move = check_mate_single(board)\n",
    "    if move is not None:\n",
    "        return move\n",
    "\n",
    "    # Prepare the input for the model\n",
    "    x = torch.Tensor(board_2_rep(board)).float().to('cuda')\n",
    "    if color == chess.BLACK:\n",
    "        x *= -1\n",
    "    x = x.unsqueeze(0)  # Add batch dimension\n",
    "    move = predict(x)  # Model prediction, should return (1, 2, 8, 8)\n",
    "\n",
    "    # Move output to CPU for NumPy operations\n",
    "    move = move.cpu()\n",
    "\n",
    "    vals = []\n",
    "    froms = [str(legal_move)[:2] for legal_move in legal_moves]\n",
    "    froms = list(set(froms))\n",
    "\n",
    "    for from_ in froms:\n",
    "        rank = 8 - int(from_[1])  # Convert rank to index (0-7)\n",
    "        file = letter_2_num[from_[0]]  # Convert file (a-h) to index (0-7)\n",
    "\n",
    "        # Ensure indexing is correct for the \"from\" predictions\n",
    "        val = move[0, 0, rank, file].item()  # Convert tensor to scalar for compatibility with NumPy\n",
    "        vals.append(val)\n",
    "\n",
    "    # Convert values to probability distribution\n",
    "    probs = distribution_over_moves(vals)\n",
    "\n",
    "    # Choose a \"from\" square based on probabilities\n",
    "    choosen_from = str(np.random.choice(froms, size=1, p=probs)[0])[:2]\n",
    "\n",
    "    vals = []\n",
    "    for legal_move in legal_moves:\n",
    "        from_ = str(legal_move)[:2]\n",
    "        if from_ == choosen_from:\n",
    "            to = str(legal_move)[2:]\n",
    "            rank_to = 8 - int(to[1])  # Convert rank to index\n",
    "            file_to = letter_2_num[to[0]]  # Convert file to index\n",
    "\n",
    "            # Ensure indexing is correct for the \"to\" predictions\n",
    "            val = move[0, 1, rank_to, file_to].item()  # Convert tensor to scalar for compatibility with NumPy\n",
    "            vals.append(val)\n",
    "        else:\n",
    "            vals.append(0)\n",
    "\n",
    "    # Choose the final move based on the highest value in 'to' position predictions\n",
    "    choosen_move = legal_moves[np.argmax(vals)]\n",
    "    return choosen_move\n",
    "\n",
    "\n",
    "\n",
    "\n",
    "def self_play_evaluation(board, model, color=chess.WHITE):\n",
    "    # Reset the board and play a game\n",
    "    board.reset()\n",
    "    player = 1 if color == chess.WHITE else -1\n",
    "\n",
    "    for move_num in range(100):  # Simulate up to 100 moves, or stop earlier if game ends\n",
    "        move = choose_move(board, player, color)  # Use model to choose move\n",
    "        if move is not None:\n",
    "            board.push(move)  # Make the chosen move\n",
    "        else:\n",
    "            print(f\"No legal moves available. Game over after {move_num} moves.\")\n",
    "            break\n",
    "\n",
    "        if board.is_game_over():\n",
    "            print(f\"Game over after {move_num} moves. Result: {board.result()}\")\n",
    "            break\n",
    "\n",
    "        # Switch player and color for the next move\n",
    "        player *= -1\n",
    "        color = chess.BLACK if color == chess.WHITE else chess.WHITE\n",
    "\n",
    "    return board"
   ]
  },
  {
   "cell_type": "markdown",
   "metadata": {
    "id": "UU-OlEny1sGL"
   },
   "source": [
    "## Train **Model**"
   ]
  },
  {
   "cell_type": "code",
   "execution_count": 3,
   "metadata": {
    "colab": {
     "base_uri": "https://localhost:8080/"
    },
    "id": "f-bIQHVnonYB",
    "outputId": "c7051277-7402-4a64-90f0-5ee1401332d1"
   },
   "outputs": [
    {
     "ename": "NameError",
     "evalue": "name 'model' is not defined",
     "output_type": "error",
     "traceback": [
      "\u001b[1;31m---------------------------------------------------------------------------\u001b[0m",
      "\u001b[1;31mNameError\u001b[0m                                 Traceback (most recent call last)",
      "Cell \u001b[1;32mIn[3], line 4\u001b[0m\n\u001b[0;32m      1\u001b[0m \u001b[38;5;28;01mimport\u001b[39;00m \u001b[38;5;21;01mtorch\u001b[39;00m\u001b[38;5;21;01m.\u001b[39;00m\u001b[38;5;21;01moptim\u001b[39;00m \u001b[38;5;28;01mas\u001b[39;00m \u001b[38;5;21;01moptim\u001b[39;00m\n\u001b[0;32m      3\u001b[0m \u001b[38;5;66;03m# Define the optimizer\u001b[39;00m\n\u001b[1;32m----> 4\u001b[0m optimizer \u001b[38;5;241m=\u001b[39m optim\u001b[38;5;241m.\u001b[39mAdam(\u001b[43mmodel\u001b[49m\u001b[38;5;241m.\u001b[39mparameters(), lr\u001b[38;5;241m=\u001b[39m\u001b[38;5;241m0.001\u001b[39m)  \u001b[38;5;66;03m# model is your neural network\u001b[39;00m\n\u001b[0;32m      8\u001b[0m num_epochs \u001b[38;5;241m=\u001b[39m \u001b[38;5;241m100\u001b[39m\n\u001b[0;32m      9\u001b[0m \u001b[38;5;66;03m# After each epoch\u001b[39;00m\n",
      "\u001b[1;31mNameError\u001b[0m: name 'model' is not defined"
     ]
    }
   ],
   "source": [
    "import torch.optim as optim\n",
    "\n",
    "# Define the optimizer\n",
    "optimizer = optim.Adam(model.parameters(), lr=0.001)  # model is your neural network\n",
    "\n",
    "\n",
    "\n",
    "num_epochs = 100\n",
    "# After each epoch\n",
    "for epoch in range(num_epochs):\n",
    "    model.train()\n",
    "    running_loss = 0.0\n",
    "\n",
    "    for i, (x, y) in enumerate(data_train_loader):\n",
    "        x, y = x.float().to('cuda'), y.to('cuda')\n",
    "\n",
    "        optimizer.zero_grad()\n",
    "        output = model(x)\n",
    "\n",
    "        loss_from = metric_from(output[:, 0, :], y[:, 0])\n",
    "        loss_to = metric_to(output[:, 1, :], y[:, 1])\n",
    "\n",
    "        loss = loss_from + loss_to\n",
    "        loss.backward()\n",
    "        optimizer.step()\n",
    "\n",
    "        running_loss += loss.item()\n",
    "\n",
    "        if i % 100 == 99:\n",
    "            print(f'Epoch [{epoch + 1}/{num_epochs}], Step [{i + 1}/{len(data_train_loader)}], Loss: {running_loss / 100:.4f}')\n",
    "            running_loss = 0.0\n",
    "\n",
    "    # After each epoch, run self-play for evaluation\n",
    "    print(f\"Evaluating model after epoch {epoch + 1}\")\n",
    "    board = chess.Board()\n",
    "    final_board = self_play_evaluation(board, model, color=chess.WHITE)\n",
    "    print(final_board)\n",
    "\n",
    "# Save the model parameters\n",
    "torch.save(model.state_dict(), 'chess_net.pth')\n"
   ]
  },
  {
   "cell_type": "markdown",
   "metadata": {
    "id": "rL1-Yy342KdW"
   },
   "source": [
    "## **Evaluation**"
   ]
  },
  {
   "cell_type": "code",
   "execution_count": null,
   "metadata": {
    "id": "1LKZbGBNAp0K"
   },
   "outputs": [
    {
     "ename": "NameError",
     "evalue": "name 'model' is not defined",
     "output_type": "error",
     "traceback": [
      "\u001b[1;31m---------------------------------------------------------------------------\u001b[0m",
      "\u001b[1;31mNameError\u001b[0m                                 Traceback (most recent call last)",
      "Cell \u001b[1;32mIn[4], line 2\u001b[0m\n\u001b[0;32m      1\u001b[0m \u001b[38;5;66;03m# Load the model state_dict\u001b[39;00m\n\u001b[1;32m----> 2\u001b[0m \u001b[43mmodel\u001b[49m\u001b[38;5;241m.\u001b[39mload_state_dict(torch\u001b[38;5;241m.\u001b[39mload(\u001b[38;5;124m'\u001b[39m\u001b[38;5;124mchess_net.pth\u001b[39m\u001b[38;5;124m'\u001b[39m))\n\u001b[0;32m      3\u001b[0m model\u001b[38;5;241m.\u001b[39mto(\u001b[38;5;124m'\u001b[39m\u001b[38;5;124mcuda\u001b[39m\u001b[38;5;124m'\u001b[39m)  \u001b[38;5;66;03m# Move model to GPU if needed\u001b[39;00m\n\u001b[0;32m      4\u001b[0m model\u001b[38;5;241m.\u001b[39meval()  \u001b[38;5;66;03m# Set the model to evaluation mode\u001b[39;00m\n",
      "\u001b[1;31mNameError\u001b[0m: name 'model' is not defined"
     ]
    }
   ],
   "source": []
  },
  {
   "cell_type": "markdown",
   "metadata": {
    "id": "oAAOGmi3Ywqp"
   },
   "source": [
    "## **UI**"
   ]
  },
  {
   "cell_type": "code",
   "execution_count": 1,
   "metadata": {
    "id": "Ii80V1lRYvfF"
   },
   "outputs": [
    {
     "name": "stdout",
     "output_type": "stream",
     "text": [
      "pygame 2.6.0 (SDL 2.28.4, Python 3.11.4)\n",
      "Hello from the pygame community. https://www.pygame.org/contribute.html\n",
      "Piece selected at d2. Valid moves: ['d3', 'd4']\n",
      "Moved piece from d2 to d4.\n",
      "AI moved piece from (1, 1) to (2, 1) using UCI: b7b6\n",
      "Piece selected at e2. Valid moves: ['e3', 'e4']\n",
      "Moved piece from e2 to e3.\n",
      "AI moved piece from (0, 2) to (1, 1) using UCI: c8b7\n",
      "Piece selected at b1. Valid moves: ['c3', 'a3', 'd2']\n",
      "Moved piece from b1 to c3.\n",
      "AI moved piece from (1, 0) to (2, 0) using UCI: a7a6\n",
      "Piece selected at g1. Valid moves: ['h3', 'f3', 'e2']\n",
      "Moved piece from g1 to f3.\n",
      "AI moved piece from (1, 3) to (2, 3) using UCI: d7d6\n",
      "Piece selected at f1. Valid moves: ['a6', 'b5', 'c4', 'd3', 'e2']\n",
      "Moved piece from f1 to c4.\n",
      "AI moved piece from (0, 1) to (1, 3) using UCI: b8d7\n",
      "Piece selected at f3. Valid moves: ['g5', 'e5', 'h4', 'd2', 'g1']\n",
      "Moved piece from f3 to g5.\n",
      "AI moved piece from (1, 4) to (2, 4) using UCI: e7e6\n",
      "Piece selected at d1. Valid moves: ['h5', 'g4', 'f3', 'd3', 'e2', 'd2']\n",
      "Moved piece from d1 to f3.\n",
      "AI moved piece from (0, 5) to (1, 4) using UCI: f8e7\n",
      "Piece selected at f3. Valid moves: ['f7', 'b7', 'f6', 'c6', 'h5', 'f5', 'd5', 'g4', 'f4', 'e4', 'h3', 'g3', 'e2', 'd1']\n",
      "Moved piece from f3 to f7.\n"
     ]
    },
    {
     "ename": "ValueError",
     "evalue": "'a' cannot be empty unless no samples are taken",
     "output_type": "error",
     "traceback": [
      "\u001b[1;31m---------------------------------------------------------------------------\u001b[0m",
      "\u001b[1;31mValueError\u001b[0m                                Traceback (most recent call last)",
      "Cell \u001b[1;32mIn[1], line 506\u001b[0m\n\u001b[0;32m    503\u001b[0m         \u001b[38;5;66;03m# Update the screen\u001b[39;00m\n\u001b[0;32m    504\u001b[0m         pygame\u001b[38;5;241m.\u001b[39mdisplay\u001b[38;5;241m.\u001b[39mflip()\n\u001b[1;32m--> 506\u001b[0m \u001b[43mgame_loop\u001b[49m\u001b[43m(\u001b[49m\u001b[43m)\u001b[49m\n",
      "Cell \u001b[1;32mIn[1], line 495\u001b[0m, in \u001b[0;36mgame_loop\u001b[1;34m()\u001b[0m\n\u001b[0;32m    493\u001b[0m         handle_click(pygame\u001b[38;5;241m.\u001b[39mmouse\u001b[38;5;241m.\u001b[39mget_pos())  \u001b[38;5;66;03m# White's turn (human)\u001b[39;00m\n\u001b[0;32m    494\u001b[0m         \u001b[38;5;28;01mif\u001b[39;00m game_board\u001b[38;5;241m.\u001b[39mturn \u001b[38;5;241m==\u001b[39m chess\u001b[38;5;241m.\u001b[39mBLACK:  \u001b[38;5;66;03m# If it's now Black's turn\u001b[39;00m\n\u001b[1;32m--> 495\u001b[0m             \u001b[43mNN_move\u001b[49m\u001b[43m(\u001b[49m\u001b[43m)\u001b[49m   \u001b[38;5;66;03m# Make the NN move for black\u001b[39;00m\n\u001b[0;32m    496\u001b[0m \u001b[38;5;66;03m# Redraw the board and pieces\u001b[39;00m\n\u001b[0;32m    497\u001b[0m screen\u001b[38;5;241m.\u001b[39mfill((\u001b[38;5;241m0\u001b[39m, \u001b[38;5;241m0\u001b[39m, \u001b[38;5;241m0\u001b[39m))\n",
      "Cell \u001b[1;32mIn[1], line 452\u001b[0m, in \u001b[0;36mNN_move\u001b[1;34m()\u001b[0m\n\u001b[0;32m    449\u001b[0m \u001b[38;5;28;01mglobal\u001b[39;00m game_board, board\n\u001b[0;32m    451\u001b[0m \u001b[38;5;66;03m# Get the move chosen by the AI\u001b[39;00m\n\u001b[1;32m--> 452\u001b[0m move_uci \u001b[38;5;241m=\u001b[39m \u001b[43mchoose_move\u001b[49m\u001b[43m(\u001b[49m\u001b[43mgame_board\u001b[49m\u001b[43m,\u001b[49m\u001b[43m \u001b[49m\u001b[43mchess\u001b[49m\u001b[38;5;241;43m.\u001b[39;49m\u001b[43mBLACK\u001b[49m\u001b[43m)\u001b[49m\n\u001b[0;32m    453\u001b[0m \u001b[38;5;28;01mif\u001b[39;00m \u001b[38;5;129;01mnot\u001b[39;00m move_uci:\n\u001b[0;32m    454\u001b[0m     \u001b[38;5;28mprint\u001b[39m(\u001b[38;5;124m\"\u001b[39m\u001b[38;5;124mAI could not make a move.\u001b[39m\u001b[38;5;124m\"\u001b[39m)\n",
      "Cell \u001b[1;32mIn[1], line 424\u001b[0m, in \u001b[0;36mchoose_move\u001b[1;34m(board, color)\u001b[0m\n\u001b[0;32m    421\u001b[0m probs \u001b[38;5;241m=\u001b[39m distribution_over_moves(vals)\n\u001b[0;32m    423\u001b[0m \u001b[38;5;66;03m# Choose a \"from\" square based on probabilities\u001b[39;00m\n\u001b[1;32m--> 424\u001b[0m choosen_from \u001b[38;5;241m=\u001b[39m \u001b[38;5;28mstr\u001b[39m(np\u001b[38;5;241m.\u001b[39mrandom\u001b[38;5;241m.\u001b[39mchoice(froms, size\u001b[38;5;241m=\u001b[39m\u001b[38;5;241m1\u001b[39m, p\u001b[38;5;241m=\u001b[39mprobs)[\u001b[38;5;241m0\u001b[39m])[:\u001b[38;5;241m2\u001b[39m]\n\u001b[0;32m    426\u001b[0m vals \u001b[38;5;241m=\u001b[39m []\n\u001b[0;32m    427\u001b[0m \u001b[38;5;28;01mfor\u001b[39;00m legal_move \u001b[38;5;129;01min\u001b[39;00m legal_moves:\n",
      "File \u001b[1;32mnumpy\\\\random\\\\mtrand.pyx:951\u001b[0m, in \u001b[0;36mnumpy.random.mtrand.RandomState.choice\u001b[1;34m()\u001b[0m\n",
      "\u001b[1;31mValueError\u001b[0m: 'a' cannot be empty unless no samples are taken"
     ]
    }
   ],
   "source": [
    "# General Imports\n",
    "import re  # For regular expressions\n",
    "import gc  # For garbage collection\n",
    "import os  # For file operations\n",
    "import numpy as np  # Numerical computations\n",
    "import pandas as pd  # For loading and handling data\n",
    "import chess  # Python-chess package to manage chess moves and rules\n",
    "import pygame\n",
    "import sys #module which works with the interpreter\n",
    "\n",
    "# PyTorch Imports\n",
    "import torch  # PyTorch core library\n",
    "import torch.nn as nn  # Neural network layers and functions\n",
    "import torch.nn.functional as F  # Non-linear activations like ReLU\n",
    "from torch.utils.data import Dataset, DataLoader  # DataLoader and Dataset\n",
    "\n",
    "# Matplotlib for visualization (optional)\n",
    "import matplotlib.pyplot as plt  # For plotting results\n",
    "\n",
    "#################################################################################################################################################################################\n",
    "#################################################################################################################################################################################\n",
    "#################################################################################################################################################################################\n",
    "#################################################################################################################################################################################\n",
    "board = chess.Board()\n",
    "\n",
    "def board_2_rep(board):   #board object from chess package\n",
    "  pieces = ['p', 'r', 'n', 'b', 'q', 'k']\n",
    "  layers = []\n",
    "  for piece in pieces:\n",
    "    layers.append(create_rep_layer(board, piece)) #create feature map for each chess type\n",
    "  board_rep = np.stack(layers) #transform feature maps into 3D-tensor\n",
    "  return board_rep\n",
    "\n",
    "\n",
    "def create_rep_layer(board, type):\n",
    "\n",
    "  s = str(board)\n",
    "  s = re.sub(f'[^{type}{type.upper()} \\n]', '.', s) #replace everything with a '.' EXCEPT[^] desired piece (e.g pawns -> p and P)\n",
    "  s = re.sub(f'{type}', '-1', s)                    #replace black pawns with -1's\n",
    "  s = re.sub(f'{type.upper()}','1',s)              #replace white pawns with 1's\n",
    "  s = re.sub(f'\\.', '0', s)                         #replace dots with 0's\n",
    "\n",
    "\n",
    "  board_mat = []\n",
    "  for row in s.split('\\n'):                         #loop through lines\n",
    "    row = row.split(' ')                            #split by whitespaces\n",
    "    row = [int(x) for x in row]                     #replace string numbers with actual integers\n",
    "    board_mat.append(row)                           #represend in np array\n",
    "\n",
    "  return np.array(board_mat)\n",
    "\n",
    "\n",
    "#column index mapping - change letters into numbers and vice versa\n",
    "letter_2_num = {'a':0, 'b':1, 'c':2, 'd':3, 'e':4, 'f':5, 'g':6, 'h':7}\n",
    "num_2_letter = {0:'a', 1:'b', 2:'c', 3:'d', 4:'e', 5:'f', 6:'g', 7:'h'}\n",
    "\n",
    "#################################################################################################################################################################################\n",
    "#################################################################################################################################################################################\n",
    "#################################################################################################################################################################################\n",
    "#################################################################################################################################################################################\n",
    "\n",
    "pygame.init()\n",
    "\n",
    "# Chessboard constants\n",
    "BOARD_WIDTH, BOARD_HEIGHT = 800, 800\n",
    "MARGIN = 50\n",
    "SQUARE_SIZE = BOARD_WIDTH // 8\n",
    "\n",
    "# Screen size\n",
    "SCREEN_WIDTH = BOARD_WIDTH + 2 * MARGIN\n",
    "SCREEN_HEIGHT = BOARD_HEIGHT + 2 * MARGIN\n",
    "\n",
    "# Colors\n",
    "WHITE = (232, 235, 234)\n",
    "BLACK = (125, 135, 150)\n",
    "GREEN = (36, 232, 19)\n",
    "\n",
    "# Create the screen\n",
    "screen = pygame.display.set_mode((SCREEN_WIDTH, SCREEN_HEIGHT))\n",
    "pygame.display.set_caption(\"Chess Game\")\n",
    "\n",
    "# Chess piece class to build the individual chess pieces\n",
    "class ChessPiece:\n",
    "    def __init__(self, color, type, image):\n",
    "        self.color = color\n",
    "        self.type = type\n",
    "        self.image = pygame.image.load(image)\n",
    "        self.image = pygame.transform.scale(self.image, (SQUARE_SIZE, SQUARE_SIZE))\n",
    "        self.has_moved = False\n",
    "\n",
    "# Initialize the board\n",
    "board = [[None for _ in range(8)] for _ in range(8)]\n",
    "\n",
    "#[[None, None, None, None, None, None, None, None],\n",
    "#[None, None, None, None, None, None, None, None],     col\n",
    "#[None, None, None, None, None, None, None, None],      ^\n",
    "#[None, None, None, None, None, None, None, None],      |\n",
    "#[None, None, None, None, None, None, None, None],      -> row\n",
    "#[None, None, None, None, None, None, None, None],\n",
    "#[None, None, None, None, None, None, None, None],\n",
    "#[None, None, None, None, None, None, None, None]]\n",
    "\n",
    "game_board = chess.Board()  # This will handle all valid move checking and game state\n",
    "\n",
    "# r n b q k b n r\n",
    "# p p p p p p p p\n",
    "# . . . . . . . .\n",
    "# . . . . . . . .\n",
    "# . . . . . . . .\n",
    "# . . . . . . . .\n",
    "# P P P P P P P P\n",
    "# R N B Q K B N R\n",
    "\n",
    "\n",
    "# Selected piece\n",
    "selected_piece = None\n",
    "selected_pos = None\n",
    "valid_moves = []  # List of valid moves for the currently selected piece\n",
    "\n",
    "# Initialize the chess board with pieces using created class\n",
    "def init_board():\n",
    "    # Pawns\n",
    "    for col in range(8):\n",
    "        board[1][col] = ChessPiece('black', 'pawn', 'Chessgame/images/black_pawn.png')\n",
    "        board[6][col] = ChessPiece('white', 'pawn', 'Chessgame/images/white_pawn.png')\n",
    "\n",
    "    # Rooks\n",
    "    board[0][0] = board[0][7] = ChessPiece('black', 'rook', 'Chessgame/images/black_rook.png')\n",
    "    board[7][0] = board[7][7] = ChessPiece('white', 'rook', 'Chessgame/images/white_rook.png')\n",
    "\n",
    "    # Knights\n",
    "    board[0][1] = board[0][6] = ChessPiece('black', 'knight', 'Chessgame/images/black_knight.png')\n",
    "    board[7][1] = board[7][6] = ChessPiece('white', 'knight', 'Chessgame/images/white_knight.png')\n",
    "\n",
    "    # Bishops\n",
    "    board[0][2] = board[0][5] = ChessPiece('black', 'bishop', 'Chessgame/images/black_bishop.png')\n",
    "    board[7][2] = board[7][5] = ChessPiece('white', 'bishop', 'Chessgame/images/white_bishop.png')\n",
    "\n",
    "    # Queens\n",
    "    board[0][3] = ChessPiece('black', 'queen', 'Chessgame/images/black_queen.png')\n",
    "    board[7][3] = ChessPiece('white', 'queen', 'Chessgame/images/white_queen.png')\n",
    "\n",
    "    # Kings\n",
    "    board[0][4] = ChessPiece('black', 'king', 'Chessgame/images/black_king.png')\n",
    "    board[7][4] = ChessPiece('white', 'king', 'Chessgame/images/white_king.png')\n",
    "\n",
    "\n",
    "# Draw the chessboard\n",
    "def draw_board():\n",
    "    for row in range(8):\n",
    "        for col in range(8):\n",
    "            color = WHITE if (row + col) % 2 == 0 else BLACK #alternating colour\n",
    "            pygame.draw.rect(screen, color, (col * SQUARE_SIZE + MARGIN, row * SQUARE_SIZE + MARGIN, SQUARE_SIZE, SQUARE_SIZE))\n",
    "    \n",
    "    # Highlight the selected square if any\n",
    "    if selected_pos:\n",
    "        pygame.draw.rect(screen, GREEN, (selected_pos[1] * SQUARE_SIZE + MARGIN, selected_pos[0] * SQUARE_SIZE + MARGIN, SQUARE_SIZE, SQUARE_SIZE))\n",
    "\n",
    "# Draw the chess pieces on the board\n",
    "def draw_pieces():\n",
    "    for row in range(8):\n",
    "        for col in range(8):\n",
    "            piece = board[row][col]\n",
    "            if piece:\n",
    "                screen.blit(piece.image, (col * SQUARE_SIZE + MARGIN, row * SQUARE_SIZE + MARGIN)) #put image for every position in board[row][col], defined in function above\n",
    "# Function to draw the labels \n",
    "def draw_labels():\n",
    "    font = pygame.font.SysFont(None, 36)\n",
    "    \n",
    "    # Letters (A to H) - for top and bottom\n",
    "    letters = ['A', 'B', 'C', 'D', 'E', 'F', 'G', 'H']\n",
    "    for i in range(8):\n",
    "        # Draw at the top\n",
    "        text = font.render(letters[i], True, WHITE)\n",
    "        screen.blit(text, (i * SQUARE_SIZE + MARGIN + SQUARE_SIZE // 2 - text.get_width() // 2, MARGIN // 4)) #idk\n",
    "        \n",
    "        # Draw at the bottom\n",
    "        screen.blit(text, (i * SQUARE_SIZE + MARGIN + SQUARE_SIZE // 2 - text.get_width() // 2, SCREEN_HEIGHT - MARGIN // 1.5)) #idk\n",
    "    \n",
    "    # Numbers (1 to 8) - for left and right\n",
    "    for i in range(8):\n",
    "        text = font.render(str(8 - i), True, WHITE)\n",
    "        \n",
    "        # Draw on the left\n",
    "        screen.blit(text, (MARGIN // 4, i * SQUARE_SIZE + MARGIN + SQUARE_SIZE // 2 - text.get_height() // 2)) #idk\n",
    "        \n",
    "        # Draw on the right\n",
    "        screen.blit(text, (SCREEN_WIDTH - MARGIN // 1.5, i * SQUARE_SIZE + MARGIN + SQUARE_SIZE // 2 - text.get_height() // 2)) #idk\n",
    "\n",
    "\n",
    "# Handle clicks and piece movement\n",
    "def handle_click(pos,color=chess.WHITE):\n",
    "    global selected_piece, selected_pos, valid_moves\n",
    "    \n",
    "    \n",
    "\n",
    "    # Check if the click is within the actual board area, considering margins\n",
    "    if MARGIN <= pos[0] < SCREEN_WIDTH - MARGIN and MARGIN <= pos[1] < SCREEN_HEIGHT - MARGIN:\n",
    "        # Convert pixel position to board coordinates (row, col), taking margin into account\n",
    "        col = (pos[0] - MARGIN) // SQUARE_SIZE\n",
    "        row = (pos[1] - MARGIN) // SQUARE_SIZE\n",
    "\n",
    "        # Mapping to get chess notation for clicked square\n",
    "        letter_2_num = {'a': 0, 'b': 1, 'c': 2, 'd': 3, 'e': 4, 'f': 5, 'g': 6, 'h': 7}\n",
    "        num_2_letter = {0: 'a', 1: 'b', 2: 'c', 3: 'd', 4: 'e', 5: 'f', 6: 'g', 7: 'h'}\n",
    "        clicked_square = f'{num_2_letter[col]}{8 - row}'\n",
    "\n",
    "        # If no piece is selected, attempt to select one\n",
    "        if selected_piece is None:\n",
    "            piece = board[row][col]\n",
    "            if piece and piece.color == ('white'):  # Ensure correct player's turn\n",
    "                selected_piece = piece\n",
    "                selected_pos = (row, col)\n",
    "                valid_moves = get_valid_moves(game_board, clicked_square)  # Retrieve valid moves for the selected piece\n",
    "                print(f\"Piece selected at {clicked_square}. Valid moves: {[move[-2:] for move in valid_moves]}\")\n",
    "        else:\n",
    "            # Try moving the selected piece\n",
    "            target_square = clicked_square\n",
    "            if target_square in [move[-2:] for move in valid_moves]:  # Check if move is valid\n",
    "                # Make the move in game logic\n",
    "                game_move = [move for move in valid_moves if move.endswith(target_square)][0]\n",
    "                game_board.push_uci(game_move)\n",
    "                print(f\"Moved piece from {game_move[:2]} to {target_square}.\")\n",
    "\n",
    "                # Update visual board representation\n",
    "                board[row][col] = selected_piece\n",
    "                selected_row, selected_col = selected_pos\n",
    "                board[selected_row][selected_col] = None\n",
    "\n",
    "                # Reset selection\n",
    "                selected_piece = None\n",
    "                selected_pos = None\n",
    "                valid_moves = []\n",
    "\n",
    "                \n",
    "            else:\n",
    "                print(\"Invalid move. Select another square.\")\n",
    "                # Reset selection if invalid move\n",
    "                selected_piece = None\n",
    "                selected_pos = None\n",
    "                valid_moves = []\n",
    "\n",
    "\n",
    "\n",
    "\n",
    "\n",
    "# Get valid moves using python-chess\n",
    "def get_valid_moves(board, position):\n",
    "    square = chess.parse_square(position)\n",
    "    piece = board.piece_at(square)\n",
    "    if piece is None:\n",
    "        return []  # No piece at the position\n",
    "\n",
    "    # Get all legal moves for the piece on that square\n",
    "    legal_moves = [move for move in board.legal_moves if move.from_square == square]\n",
    "    return [move.uci() for move in legal_moves]\n",
    "\n",
    "def move_piece(from_pos, to_pos, move_uci):\n",
    "    \"\"\"\n",
    "    Move a piece on the visual board and update the game logic board (python-chess).\n",
    "    \n",
    "    Parameters:\n",
    "    - from_pos: tuple (row, col) of the starting square in visual board coordinates.\n",
    "    - to_pos: tuple (row, col) of the target square in visual board coordinates.\n",
    "    - move_uci: string in UCI format representing the move (e.g., \"e2e4\").\n",
    "    \"\"\"\n",
    "    global game_board, board  # Access global boards\n",
    "\n",
    "    # Unpack the positions\n",
    "    from_row, from_col = from_pos\n",
    "    to_row, to_col = to_pos\n",
    "\n",
    "    # Ensure the move is legal in the game logic board (python-chess)\n",
    "    move = chess.Move.from_uci(move_uci)\n",
    "    if move not in game_board.legal_moves:\n",
    "        print(f\"Illegal move attempted: {move_uci}\")\n",
    "        return\n",
    "\n",
    "    # Update the python-chess board state\n",
    "    game_board.push(move)\n",
    "\n",
    "    # Update the visual board representation\n",
    "    board[to_row][to_col] = board[from_row][from_col]  # Move the piece to the target square\n",
    "    board[from_row][from_col] = None  # Clear the source square\n",
    "\n",
    "    # Debug information\n",
    "    print(f\"Moved piece from ({from_row}, {from_col}) to ({to_row}, {to_col}) using UCI: {move_uci}\")\n",
    "\n",
    "\n",
    "\n",
    "\n",
    "\n",
    "        \n",
    "\n",
    "    \n",
    "    \n",
    "        \n",
    "        \n",
    "       \n",
    "\n",
    "\n",
    "\n",
    "\n",
    "#################################################################################################################################################################################\n",
    "#################################################################################################################################################################################\n",
    "#################################################################################################################################################################################\n",
    "#################################################################################################################################################################################\n",
    "\n",
    "\n",
    "\n",
    "\n",
    "class Module(nn.Module):\n",
    "    def __init__(self, hidden_size):\n",
    "        super(Module, self).__init__()\n",
    "        self.conv1 = nn.Conv2d(hidden_size, hidden_size, 3, stride=1, padding=1)          #2 convolutional layers = extract feautres, patterns\n",
    "        self.conv2 = nn.Conv2d(hidden_size, hidden_size, 3, stride=1, padding=1)\n",
    "        self.bn1 = nn.BatchNorm2d(hidden_size)                                            # batch normalisation layers = reduce overfitting and improve the generalization ability of the model\n",
    "        self.bn2 = nn.BatchNorm2d(hidden_size)\n",
    "        self.activation1 = nn.SELU()                                                      #activation function for to add non-linearity into the model,\n",
    "        self.activation2 = nn.SELU()\n",
    "\n",
    "    def forward(self, x):\n",
    "        x_input = torch.clone(x)                                                          # Clone input for skip connection\n",
    "        x = self.conv1(x)\n",
    "        x = self.bn1(x)\n",
    "        x = self.activation1(x)\n",
    "        x = self.conv2(x)\n",
    "        x = self.bn2(x)\n",
    "        x = x + x_input                                                                   # Residual connection, should improve learning\n",
    "        x = self.activation2(x)\n",
    "        return x\n",
    "\n",
    "class ChessNet(nn.Module):\n",
    "    def __init__(self, hidden_layers=4, hidden_size=200):\n",
    "        super(ChessNet, self).__init__()\n",
    "        self.hidden_layers = hidden_layers\n",
    "        self.input_layer = nn.Conv2d(6, hidden_size, 3, stride=1, padding=1)\n",
    "        self.module_list = nn.ModuleList([Module(hidden_size) for i in range(hidden_layers)]) #ModuleList connected with above \"Module\"\n",
    "        self.output_layer = nn.Conv2d(hidden_size, 2, 3, stride=1, padding=1)\n",
    "\n",
    "    def forward(self, x):\n",
    "        x = self.input_layer(x)\n",
    "        x = F.relu(x)\n",
    "\n",
    "        for i in range(self.hidden_layers):\n",
    "            x = self.module_list[i](x)\n",
    "\n",
    "        x = self.output_layer(x)\n",
    "\n",
    "        return x\n",
    "\n",
    "#################################################################################################################################################################################\n",
    "#################################################################################################################################################################################\n",
    "#################################################################################################################################################################################\n",
    "#################################################################################################################################################################################\n",
    "\n",
    "model = ChessNet(hidden_layers=4, hidden_size=200)\n",
    "model.load_state_dict(torch.load('chess_net.pth', map_location='cpu', weights_only=True))\n",
    "model.eval()\n",
    "\n",
    "\n",
    "\n",
    "\n",
    "def check_mate_single(board):\n",
    "  board = board.copy()\n",
    "  legal_moves = list(board.legal_moves)\n",
    "  for move in legal_moves:\n",
    "    board.push_uci(str(move))\n",
    "    if board.is_checkmate():\n",
    "      move = board.pop()\n",
    "      return move\n",
    "    _ = board.pop()\n",
    "\n",
    "\n",
    "def distribution_over_moves(vals):\n",
    "  probs = np.array(vals)\n",
    "  probs = np.exp(probs)\n",
    "  probs = probs/probs.sum()\n",
    "  probs = probs ** 3\n",
    "  probs = probs /probs.sum()\n",
    "  return probs\n",
    "\n",
    "# Predict function\n",
    "def predict(x):\n",
    "     # Set model to evaluation mode\n",
    "    with torch.no_grad():  # Disable gradient calculations for inference\n",
    "        output = model(x)\n",
    "    return output\n",
    "\n",
    "def choose_move(board, color=chess.BLACK):\n",
    "    legal_moves = list(board.legal_moves)\n",
    "\n",
    "    # Check for immediate checkmate\n",
    "    move = check_mate_single(board)\n",
    "    if move is not None:\n",
    "        return move\n",
    "\n",
    "    # Prepare the input for the model\n",
    "    x = torch.Tensor(board_2_rep(board)).float()  # Use CPU instead\n",
    "    if color == chess.BLACK:\n",
    "        x *= -1\n",
    "    x = x.unsqueeze(0)  # Add batch dimension\n",
    "    move = predict(x)  # Model prediction, should return (1, 2, 8, 8)\n",
    "\n",
    "    # Move output to CPU for NumPy operations\n",
    "    move = move.cpu()\n",
    "\n",
    "    vals = []\n",
    "    froms = [str(legal_move)[:2] for legal_move in legal_moves]\n",
    "    froms = list(set(froms))\n",
    "\n",
    "    for from_ in froms:\n",
    "        rank = 8 - int(from_[1])  # Convert rank to index (0-7)\n",
    "        file = letter_2_num[from_[0]]  # Convert file (a-h) to index (0-7)\n",
    "\n",
    "        # Ensure indexing is correct for the \"from\" predictions\n",
    "        val = move[0, 0, rank, file].item()  # Convert tensor to scalar for compatibility with NumPy\n",
    "        vals.append(val)\n",
    "\n",
    "    # Convert values to probability distribution\n",
    "    probs = distribution_over_moves(vals)\n",
    "\n",
    "    # Choose a \"from\" square based on probabilities\n",
    "    choosen_from = str(np.random.choice(froms, size=1, p=probs)[0])[:2]\n",
    "\n",
    "    vals = []\n",
    "    for legal_move in legal_moves:\n",
    "        from_ = str(legal_move)[:2]\n",
    "        if from_ == choosen_from:\n",
    "            to = str(legal_move)[2:]\n",
    "            rank_to = 8 - int(to[1])  # Convert rank to index\n",
    "            file_to = letter_2_num[to[0]]  # Convert file to index\n",
    "\n",
    "            # Ensure indexing is correct for the \"to\" predictions\n",
    "            val = move[0, 1, rank_to, file_to].item()  # Convert tensor to scalar for compatibility with NumPy\n",
    "            vals.append(val)\n",
    "        else:\n",
    "            vals.append(0)\n",
    "\n",
    "    # Choose the final move based on the highest value in 'to' position predictions\n",
    "    choosen_move = legal_moves[np.argmax(vals)]\n",
    "    return choosen_move.uci()\n",
    "    \n",
    "\n",
    "def NN_move():\n",
    "    \"\"\"\n",
    "    Executes the AI's chosen move, updating both the visual board and the game logic board.\n",
    "    \"\"\"\n",
    "    global game_board, board\n",
    "\n",
    "    # Get the move chosen by the AI\n",
    "    move_uci = choose_move(game_board, chess.BLACK)\n",
    "    if not move_uci:\n",
    "        print(\"AI could not make a move.\")\n",
    "        return\n",
    "\n",
    "    # Convert UCI move to source and destination squares\n",
    "    move = chess.Move.from_uci(move_uci)\n",
    "    from_square = move.from_square\n",
    "    to_square = move.to_square\n",
    "\n",
    "    # Convert to (row, col) for the visual board\n",
    "    from_row, from_col = 7 - (from_square // 8), from_square % 8\n",
    "    to_row, to_col = 7 - (to_square // 8), to_square % 8\n",
    "\n",
    "    # Update python-chess board\n",
    "    game_board.push(move)\n",
    "\n",
    "    # Update visual board\n",
    "    board[to_row][to_col] = board[from_row][from_col]  # Move piece\n",
    "    board[from_row][from_col] = None  # Clear original square\n",
    "\n",
    "    # Debug information\n",
    "    print(f\"AI moved piece from ({from_row}, {from_col}) to ({to_row}, {to_col}) using UCI: {move_uci}\")\n",
    "\n",
    "\n",
    "\n",
    "\n",
    "\n",
    "# Game loop\n",
    "def game_loop():\n",
    "\n",
    "    init_board()\n",
    "\n",
    "    while True:\n",
    "\n",
    "        for event in pygame.event.get():\n",
    "            if event.type == pygame.QUIT:\n",
    "                pygame.quit()\n",
    "                sys.exit()\n",
    "\n",
    "            elif event.type == pygame.MOUSEBUTTONDOWN:\n",
    "                handle_click(pygame.mouse.get_pos())  # White's turn (human)\n",
    "                if game_board.turn == chess.BLACK:  # If it's now Black's turn\n",
    "                    NN_move()   # Make the NN move for black\n",
    "        # Redraw the board and pieces\n",
    "        screen.fill((0, 0, 0))\n",
    "        draw_labels()\n",
    "        draw_board()\n",
    "        draw_pieces()\n",
    "\n",
    "\n",
    "        # Update the screen\n",
    "        pygame.display.flip()\n",
    "\n",
    "game_loop()"
   ]
  },
  {
   "cell_type": "code",
   "execution_count": null,
   "metadata": {},
   "outputs": [],
   "source": []
  }
 ],
 "metadata": {
  "accelerator": "GPU",
  "colab": {
   "authorship_tag": "ABX9TyNeP94Ir3yLNJpyE/Xhcqug",
   "gpuType": "L4",
   "include_colab_link": true,
   "machine_shape": "hm",
   "provenance": []
  },
  "kernelspec": {
   "display_name": "Python 3",
   "name": "python3"
  },
  "language_info": {
   "codemirror_mode": {
    "name": "ipython",
    "version": 3
   },
   "file_extension": ".py",
   "mimetype": "text/x-python",
   "name": "python",
   "nbconvert_exporter": "python",
   "pygments_lexer": "ipython3",
   "version": "3.11.4"
  }
 },
 "nbformat": 4,
 "nbformat_minor": 0
}
